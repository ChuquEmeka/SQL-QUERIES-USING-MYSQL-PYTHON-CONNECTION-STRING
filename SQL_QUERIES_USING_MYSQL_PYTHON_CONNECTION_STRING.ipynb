{
  "cells": [
    {
      "cell_type": "markdown",
      "metadata": {
        "id": "view-in-github",
        "colab_type": "text"
      },
      "source": [
        "<a href=\"https://colab.research.google.com/github/ChuquEmeka/SQL-QUERIES-USING-MYSQL-PYTHON-CONNECTION-STRING/blob/main/SQL_QUERIES_USING_MYSQL_PYTHON_CONNECTION_STRING.ipynb\" target=\"_parent\"><img src=\"https://colab.research.google.com/assets/colab-badge.svg\" alt=\"Open In Colab\"/></a>"
      ]
    },
    {
      "cell_type": "markdown",
      "id": "3547ac34",
      "metadata": {
        "id": "3547ac34"
      },
      "source": [
        "### SQL QUERIES USING MYSQL-PYTHON CONNECTION STRING\n",
        "\n",
        "#### BY EDEH EMEKA N"
      ]
    },
    {
      "cell_type": "code",
      "execution_count": 1,
      "id": "17d5e797",
      "metadata": {
        "colab": {
          "base_uri": "https://localhost:8080/"
        },
        "id": "17d5e797",
        "outputId": "b50539c6-fcbe-424a-8508-5f7083015b58"
      },
      "outputs": [
        {
          "output_type": "stream",
          "name": "stdout",
          "text": [
            "Collecting mysql-connector\n",
            "  Downloading mysql-connector-2.2.9.tar.gz (11.9 MB)\n",
            "\u001b[K     |████████████████████████████████| 11.9 MB 14.1 MB/s \n",
            "\u001b[?25hBuilding wheels for collected packages: mysql-connector\n",
            "  Building wheel for mysql-connector (setup.py) ... \u001b[?25l\u001b[?25hdone\n",
            "  Created wheel for mysql-connector: filename=mysql_connector-2.2.9-cp37-cp37m-linux_x86_64.whl size=247965 sha256=7b198e9c95ecbd16ad8d8ac4e348ed745b63489512b50da05dd88da05ce937bd\n",
            "  Stored in directory: /root/.cache/pip/wheels/42/2f/c3/692fc7fc1f0d8c06b9175d94f0fc30f4f92348f5df5af1b8b7\n",
            "Successfully built mysql-connector\n",
            "Installing collected packages: mysql-connector\n",
            "Successfully installed mysql-connector-2.2.9\n"
          ]
        }
      ],
      "source": [
        "!pip install mysql-connector"
      ]
    },
    {
      "cell_type": "code",
      "execution_count": 2,
      "id": "cd1defbd",
      "metadata": {
        "id": "cd1defbd"
      },
      "outputs": [],
      "source": [
        "import mysql.connector"
      ]
    },
    {
      "cell_type": "code",
      "execution_count": 3,
      "id": "3bfa99ea",
      "metadata": {
        "id": "3bfa99ea"
      },
      "outputs": [],
      "source": [
        "import pandas as pd #Because i need my query results in dataframe format"
      ]
    },
    {
      "cell_type": "code",
      "execution_count": null,
      "id": "dea1d32c",
      "metadata": {
        "id": "dea1d32c"
      },
      "outputs": [],
      "source": [
        "#connecting to mysql database\n",
        "\n",
        "mydb = mysql.connector.connect(host = 'localhost', username = 'root', passwd = '', database = 'justice')\n",
        "mydb"
      ]
    },
    {
      "cell_type": "code",
      "execution_count": null,
      "id": "61034b0b",
      "metadata": {
        "id": "61034b0b",
        "outputId": "dcd19c5c-5946-488d-cbbb-751ed7a43f29"
      },
      "outputs": [
        {
          "name": "stdout",
          "output_type": "stream",
          "text": [
            "connection successfull\n"
          ]
        }
      ],
      "source": [
        "#confirming that the above connection was successful\n",
        "\n",
        "if(mydb):\n",
        "    print(\"connection successfull\")\n",
        "else:\n",
        "    print('connection unsuccesful')"
      ]
    },
    {
      "cell_type": "code",
      "execution_count": null,
      "id": "2adc1912",
      "metadata": {
        "id": "2adc1912"
      },
      "outputs": [],
      "source": [
        "cursor = mydb.cursor()"
      ]
    },
    {
      "cell_type": "code",
      "execution_count": null,
      "id": "13ddb379",
      "metadata": {
        "id": "13ddb379"
      },
      "outputs": [],
      "source": [
        "#cursor.execute(\"Create database ORG\") will create a new database called \"ORG\". I won't be working with this database though.\n",
        "# As shown on my connection string above, I already connected to \"justice\" database which contains the tables i will be working with"
      ]
    },
    {
      "cell_type": "code",
      "execution_count": null,
      "id": "7d81a4b3",
      "metadata": {
        "id": "7d81a4b3"
      },
      "outputs": [],
      "source": [
        "cursor.execute(\"Show tables\") #This will show the tables in the \"justice\" database i connected to."
      ]
    },
    {
      "cell_type": "code",
      "execution_count": null,
      "id": "ebbde837",
      "metadata": {
        "id": "ebbde837",
        "outputId": "ea640ddd-f9a0-42a6-cf55-ea70032f8a27"
      },
      "outputs": [
        {
          "name": "stdout",
          "output_type": "stream",
          "text": [
            "('avocado',)\n",
            "('bonus',)\n",
            "('booking',)\n",
            "('calendar',)\n",
            "('country_summary',)\n",
            "('employee',)\n",
            "('extra',)\n",
            "('international_education',)\n",
            "('london_crimes',)\n",
            "('movie_data',)\n",
            "('nyc_bike_sharing',)\n",
            "('orders',)\n",
            "('products',)\n",
            "('rate',)\n",
            "('title',)\n",
            "('warehouse',)\n",
            "('worker',)\n"
          ]
        }
      ],
      "source": [
        "for tb in cursor:\n",
        "    print(tb)"
      ]
    },
    {
      "cell_type": "code",
      "execution_count": null,
      "id": "9524952d",
      "metadata": {
        "id": "9524952d",
        "outputId": "3a72bce4-2ae5-4bbe-ab0d-6c614ca49894"
      },
      "outputs": [
        {
          "data": {
            "text/html": [
              "<div>\n",
              "<style scoped>\n",
              "    .dataframe tbody tr th:only-of-type {\n",
              "        vertical-align: middle;\n",
              "    }\n",
              "\n",
              "    .dataframe tbody tr th {\n",
              "        vertical-align: top;\n",
              "    }\n",
              "\n",
              "    .dataframe thead th {\n",
              "        text-align: right;\n",
              "    }\n",
              "</style>\n",
              "<table border=\"1\" class=\"dataframe\">\n",
              "  <thead>\n",
              "    <tr style=\"text-align: right;\">\n",
              "      <th></th>\n",
              "      <th>Tables_in_justice</th>\n",
              "    </tr>\n",
              "  </thead>\n",
              "  <tbody>\n",
              "    <tr>\n",
              "      <th>0</th>\n",
              "      <td>avocado</td>\n",
              "    </tr>\n",
              "    <tr>\n",
              "      <th>1</th>\n",
              "      <td>bonus</td>\n",
              "    </tr>\n",
              "    <tr>\n",
              "      <th>2</th>\n",
              "      <td>booking</td>\n",
              "    </tr>\n",
              "    <tr>\n",
              "      <th>3</th>\n",
              "      <td>calendar</td>\n",
              "    </tr>\n",
              "    <tr>\n",
              "      <th>4</th>\n",
              "      <td>country_summary</td>\n",
              "    </tr>\n",
              "    <tr>\n",
              "      <th>5</th>\n",
              "      <td>employee</td>\n",
              "    </tr>\n",
              "    <tr>\n",
              "      <th>6</th>\n",
              "      <td>extra</td>\n",
              "    </tr>\n",
              "    <tr>\n",
              "      <th>7</th>\n",
              "      <td>international_education</td>\n",
              "    </tr>\n",
              "    <tr>\n",
              "      <th>8</th>\n",
              "      <td>london_crimes</td>\n",
              "    </tr>\n",
              "    <tr>\n",
              "      <th>9</th>\n",
              "      <td>movie_data</td>\n",
              "    </tr>\n",
              "    <tr>\n",
              "      <th>10</th>\n",
              "      <td>nyc_bike_sharing</td>\n",
              "    </tr>\n",
              "    <tr>\n",
              "      <th>11</th>\n",
              "      <td>orders</td>\n",
              "    </tr>\n",
              "    <tr>\n",
              "      <th>12</th>\n",
              "      <td>products</td>\n",
              "    </tr>\n",
              "    <tr>\n",
              "      <th>13</th>\n",
              "      <td>rate</td>\n",
              "    </tr>\n",
              "    <tr>\n",
              "      <th>14</th>\n",
              "      <td>title</td>\n",
              "    </tr>\n",
              "    <tr>\n",
              "      <th>15</th>\n",
              "      <td>warehouse</td>\n",
              "    </tr>\n",
              "    <tr>\n",
              "      <th>16</th>\n",
              "      <td>worker</td>\n",
              "    </tr>\n",
              "  </tbody>\n",
              "</table>\n",
              "</div>"
            ],
            "text/plain": [
              "          Tables_in_justice\n",
              "0                   avocado\n",
              "1                     bonus\n",
              "2                   booking\n",
              "3                  calendar\n",
              "4           country_summary\n",
              "5                  employee\n",
              "6                     extra\n",
              "7   international_education\n",
              "8             london_crimes\n",
              "9                movie_data\n",
              "10         nyc_bike_sharing\n",
              "11                   orders\n",
              "12                 products\n",
              "13                     rate\n",
              "14                    title\n",
              "15                warehouse\n",
              "16                   worker"
            ]
          },
          "execution_count": 8,
          "metadata": {},
          "output_type": "execute_result"
        }
      ],
      "source": [
        "#Alternatively, i can view the tables in my justice database by running the query below. \n",
        "\n",
        "tables = pd.read_sql(\"Show tables;\", con=mydb)\n",
        "tables"
      ]
    },
    {
      "cell_type": "code",
      "execution_count": null,
      "id": "522c9a49",
      "metadata": {
        "id": "522c9a49"
      },
      "outputs": [],
      "source": [
        "#I will be working with \"bonus\", \"worker\", and \"title\" tables. Let's first view the content of these tables one after the other\n",
        "# using two methods each before answering the needed questions."
      ]
    },
    {
      "cell_type": "code",
      "execution_count": null,
      "id": "5a9b33ac",
      "metadata": {
        "id": "5a9b33ac",
        "outputId": "f32e7cde-f7e2-403d-deb9-d7b2463688d7"
      },
      "outputs": [
        {
          "name": "stdout",
          "output_type": "stream",
          "text": [
            "(1, 5000, datetime.datetime(2016, 2, 20, 0, 0))\n",
            "(2, 3000, datetime.datetime(2016, 6, 11, 0, 0))\n",
            "(3, 4000, datetime.datetime(2016, 2, 20, 0, 0))\n",
            "(1, 4500, datetime.datetime(2016, 2, 20, 0, 0))\n",
            "(2, 3500, datetime.datetime(2016, 6, 11, 0, 0))\n"
          ]
        }
      ],
      "source": [
        "#First method for printing the bonus table\n",
        "cursor.execute(\"select * from justice.bonus\")\n",
        "result = cursor.fetchall() #this will display the last executed statement\n",
        "for row in result:\n",
        "    print(row)"
      ]
    },
    {
      "cell_type": "code",
      "execution_count": null,
      "id": "b6d9ea17",
      "metadata": {
        "id": "b6d9ea17",
        "outputId": "dc59b7f4-25e9-4d3a-d573-2c7818cc8db8"
      },
      "outputs": [
        {
          "data": {
            "text/html": [
              "<div>\n",
              "<style scoped>\n",
              "    .dataframe tbody tr th:only-of-type {\n",
              "        vertical-align: middle;\n",
              "    }\n",
              "\n",
              "    .dataframe tbody tr th {\n",
              "        vertical-align: top;\n",
              "    }\n",
              "\n",
              "    .dataframe thead th {\n",
              "        text-align: right;\n",
              "    }\n",
              "</style>\n",
              "<table border=\"1\" class=\"dataframe\">\n",
              "  <thead>\n",
              "    <tr style=\"text-align: right;\">\n",
              "      <th></th>\n",
              "      <th>WORKER_REF_ID</th>\n",
              "      <th>BONUS_AMOUNT</th>\n",
              "      <th>BONUS_DATE</th>\n",
              "    </tr>\n",
              "  </thead>\n",
              "  <tbody>\n",
              "    <tr>\n",
              "      <th>0</th>\n",
              "      <td>1</td>\n",
              "      <td>5000</td>\n",
              "      <td>2016-02-20</td>\n",
              "    </tr>\n",
              "    <tr>\n",
              "      <th>1</th>\n",
              "      <td>2</td>\n",
              "      <td>3000</td>\n",
              "      <td>2016-06-11</td>\n",
              "    </tr>\n",
              "    <tr>\n",
              "      <th>2</th>\n",
              "      <td>3</td>\n",
              "      <td>4000</td>\n",
              "      <td>2016-02-20</td>\n",
              "    </tr>\n",
              "    <tr>\n",
              "      <th>3</th>\n",
              "      <td>1</td>\n",
              "      <td>4500</td>\n",
              "      <td>2016-02-20</td>\n",
              "    </tr>\n",
              "    <tr>\n",
              "      <th>4</th>\n",
              "      <td>2</td>\n",
              "      <td>3500</td>\n",
              "      <td>2016-06-11</td>\n",
              "    </tr>\n",
              "  </tbody>\n",
              "</table>\n",
              "</div>"
            ],
            "text/plain": [
              "   WORKER_REF_ID  BONUS_AMOUNT BONUS_DATE\n",
              "0              1          5000 2016-02-20\n",
              "1              2          3000 2016-06-11\n",
              "2              3          4000 2016-02-20\n",
              "3              1          4500 2016-02-20\n",
              "4              2          3500 2016-06-11"
            ]
          },
          "execution_count": 10,
          "metadata": {},
          "output_type": "execute_result"
        }
      ],
      "source": [
        "#The second method prints the result as a dataframe.\n",
        "\n",
        "bonus_table = pd.read_sql(\"select * from bonus;\", con=mydb)\n",
        "bonus_table"
      ]
    },
    {
      "cell_type": "code",
      "execution_count": null,
      "id": "cd5aaddc",
      "metadata": {
        "id": "cd5aaddc",
        "outputId": "459eae28-2f5e-4aea-f3ef-6be0cb793fd7"
      },
      "outputs": [
        {
          "name": "stdout",
          "output_type": "stream",
          "text": [
            "(1, 'Monika', 'Arora', 100000, datetime.datetime(2014, 2, 20, 9, 0), 'HR')\n",
            "(2, 'Niharika', 'Verma', 80000, datetime.datetime(2014, 6, 11, 9, 0), 'Admin')\n",
            "(3, 'Vishal', 'Singhal', 300000, datetime.datetime(2014, 2, 20, 9, 0), 'HR')\n",
            "(4, 'Amitabh', 'Singh', 500000, datetime.datetime(2014, 2, 20, 9, 0), 'Admin')\n",
            "(5, 'Vivek', 'Bhati', 500000, datetime.datetime(2014, 6, 11, 9, 0), 'Admin')\n",
            "(6, 'Vipul', 'Diwan', 200000, datetime.datetime(2014, 6, 11, 9, 0), 'Account')\n",
            "(7, 'Satish', 'Kumar', 75000, datetime.datetime(2014, 1, 20, 9, 0), 'Account')\n",
            "(8, 'Geetika', 'Chauhan', 90000, datetime.datetime(2014, 4, 11, 9, 0), 'Admin')\n"
          ]
        }
      ],
      "source": [
        "#First method for the worker table\n",
        "\n",
        "cursor.execute(\"select * from justice.worker\")\n",
        "result = cursor.fetchall()\n",
        "\n",
        "for row in result:\n",
        "    print(row)"
      ]
    },
    {
      "cell_type": "code",
      "execution_count": null,
      "id": "0d3d0415",
      "metadata": {
        "id": "0d3d0415",
        "outputId": "df28d142-e39d-40cc-9ffc-5d841ea2d9c1"
      },
      "outputs": [
        {
          "data": {
            "text/html": [
              "<div>\n",
              "<style scoped>\n",
              "    .dataframe tbody tr th:only-of-type {\n",
              "        vertical-align: middle;\n",
              "    }\n",
              "\n",
              "    .dataframe tbody tr th {\n",
              "        vertical-align: top;\n",
              "    }\n",
              "\n",
              "    .dataframe thead th {\n",
              "        text-align: right;\n",
              "    }\n",
              "</style>\n",
              "<table border=\"1\" class=\"dataframe\">\n",
              "  <thead>\n",
              "    <tr style=\"text-align: right;\">\n",
              "      <th></th>\n",
              "      <th>WORKER_ID</th>\n",
              "      <th>FIRST_NAME</th>\n",
              "      <th>LAST_NAME</th>\n",
              "      <th>SALARY</th>\n",
              "      <th>JOINING_DATE</th>\n",
              "      <th>DEPARTMENT</th>\n",
              "    </tr>\n",
              "  </thead>\n",
              "  <tbody>\n",
              "    <tr>\n",
              "      <th>0</th>\n",
              "      <td>1</td>\n",
              "      <td>Monika</td>\n",
              "      <td>Arora</td>\n",
              "      <td>100000</td>\n",
              "      <td>2014-02-20 09:00:00</td>\n",
              "      <td>HR</td>\n",
              "    </tr>\n",
              "    <tr>\n",
              "      <th>1</th>\n",
              "      <td>2</td>\n",
              "      <td>Niharika</td>\n",
              "      <td>Verma</td>\n",
              "      <td>80000</td>\n",
              "      <td>2014-06-11 09:00:00</td>\n",
              "      <td>Admin</td>\n",
              "    </tr>\n",
              "    <tr>\n",
              "      <th>2</th>\n",
              "      <td>3</td>\n",
              "      <td>Vishal</td>\n",
              "      <td>Singhal</td>\n",
              "      <td>300000</td>\n",
              "      <td>2014-02-20 09:00:00</td>\n",
              "      <td>HR</td>\n",
              "    </tr>\n",
              "    <tr>\n",
              "      <th>3</th>\n",
              "      <td>4</td>\n",
              "      <td>Amitabh</td>\n",
              "      <td>Singh</td>\n",
              "      <td>500000</td>\n",
              "      <td>2014-02-20 09:00:00</td>\n",
              "      <td>Admin</td>\n",
              "    </tr>\n",
              "    <tr>\n",
              "      <th>4</th>\n",
              "      <td>5</td>\n",
              "      <td>Vivek</td>\n",
              "      <td>Bhati</td>\n",
              "      <td>500000</td>\n",
              "      <td>2014-06-11 09:00:00</td>\n",
              "      <td>Admin</td>\n",
              "    </tr>\n",
              "    <tr>\n",
              "      <th>5</th>\n",
              "      <td>6</td>\n",
              "      <td>Vipul</td>\n",
              "      <td>Diwan</td>\n",
              "      <td>200000</td>\n",
              "      <td>2014-06-11 09:00:00</td>\n",
              "      <td>Account</td>\n",
              "    </tr>\n",
              "    <tr>\n",
              "      <th>6</th>\n",
              "      <td>7</td>\n",
              "      <td>Satish</td>\n",
              "      <td>Kumar</td>\n",
              "      <td>75000</td>\n",
              "      <td>2014-01-20 09:00:00</td>\n",
              "      <td>Account</td>\n",
              "    </tr>\n",
              "    <tr>\n",
              "      <th>7</th>\n",
              "      <td>8</td>\n",
              "      <td>Geetika</td>\n",
              "      <td>Chauhan</td>\n",
              "      <td>90000</td>\n",
              "      <td>2014-04-11 09:00:00</td>\n",
              "      <td>Admin</td>\n",
              "    </tr>\n",
              "  </tbody>\n",
              "</table>\n",
              "</div>"
            ],
            "text/plain": [
              "   WORKER_ID FIRST_NAME LAST_NAME  SALARY        JOINING_DATE DEPARTMENT\n",
              "0          1     Monika     Arora  100000 2014-02-20 09:00:00         HR\n",
              "1          2   Niharika     Verma   80000 2014-06-11 09:00:00      Admin\n",
              "2          3     Vishal   Singhal  300000 2014-02-20 09:00:00         HR\n",
              "3          4    Amitabh     Singh  500000 2014-02-20 09:00:00      Admin\n",
              "4          5      Vivek     Bhati  500000 2014-06-11 09:00:00      Admin\n",
              "5          6      Vipul     Diwan  200000 2014-06-11 09:00:00    Account\n",
              "6          7     Satish     Kumar   75000 2014-01-20 09:00:00    Account\n",
              "7          8    Geetika   Chauhan   90000 2014-04-11 09:00:00      Admin"
            ]
          },
          "execution_count": 12,
          "metadata": {},
          "output_type": "execute_result"
        }
      ],
      "source": [
        "#second method for worker table\n",
        "\n",
        "worker_table = pd.read_sql(\"select * from worker;\", con=mydb)\n",
        "worker_table"
      ]
    },
    {
      "cell_type": "code",
      "execution_count": null,
      "id": "ad161cdf",
      "metadata": {
        "id": "ad161cdf",
        "outputId": "b8f23cba-f328-4aa9-f42b-69712e8d9468"
      },
      "outputs": [
        {
          "name": "stdout",
          "output_type": "stream",
          "text": [
            "(1, 'Manager', datetime.datetime(2016, 2, 20, 0, 0))\n",
            "(2, 'Executive', datetime.datetime(2016, 6, 11, 0, 0))\n",
            "(8, 'Executive', datetime.datetime(2016, 6, 11, 0, 0))\n",
            "(5, 'Manager', datetime.datetime(2016, 6, 11, 0, 0))\n",
            "(4, 'Asst. Manager', datetime.datetime(2016, 6, 11, 0, 0))\n",
            "(7, 'Executive', datetime.datetime(2016, 6, 11, 0, 0))\n",
            "(6, 'Lead', datetime.datetime(2016, 6, 11, 0, 0))\n",
            "(3, 'Lead', datetime.datetime(2016, 6, 11, 0, 0))\n"
          ]
        }
      ],
      "source": [
        "#first method for title table\n",
        "\n",
        "cursor.execute(\"select * from justice.title\")\n",
        "result = cursor.fetchall()\n",
        "\n",
        "for row in result:\n",
        "    print(row)"
      ]
    },
    {
      "cell_type": "code",
      "execution_count": null,
      "id": "a42a5c57",
      "metadata": {
        "id": "a42a5c57",
        "outputId": "a1e9c4c7-62e5-484f-f25c-68f3f4349a15"
      },
      "outputs": [
        {
          "data": {
            "text/html": [
              "<div>\n",
              "<style scoped>\n",
              "    .dataframe tbody tr th:only-of-type {\n",
              "        vertical-align: middle;\n",
              "    }\n",
              "\n",
              "    .dataframe tbody tr th {\n",
              "        vertical-align: top;\n",
              "    }\n",
              "\n",
              "    .dataframe thead th {\n",
              "        text-align: right;\n",
              "    }\n",
              "</style>\n",
              "<table border=\"1\" class=\"dataframe\">\n",
              "  <thead>\n",
              "    <tr style=\"text-align: right;\">\n",
              "      <th></th>\n",
              "      <th>WORKER_REF_ID</th>\n",
              "      <th>WORKER_TITLE</th>\n",
              "      <th>AFFECTED_FROM</th>\n",
              "    </tr>\n",
              "  </thead>\n",
              "  <tbody>\n",
              "    <tr>\n",
              "      <th>0</th>\n",
              "      <td>1</td>\n",
              "      <td>Manager</td>\n",
              "      <td>2016-02-20</td>\n",
              "    </tr>\n",
              "    <tr>\n",
              "      <th>1</th>\n",
              "      <td>2</td>\n",
              "      <td>Executive</td>\n",
              "      <td>2016-06-11</td>\n",
              "    </tr>\n",
              "    <tr>\n",
              "      <th>2</th>\n",
              "      <td>8</td>\n",
              "      <td>Executive</td>\n",
              "      <td>2016-06-11</td>\n",
              "    </tr>\n",
              "    <tr>\n",
              "      <th>3</th>\n",
              "      <td>5</td>\n",
              "      <td>Manager</td>\n",
              "      <td>2016-06-11</td>\n",
              "    </tr>\n",
              "    <tr>\n",
              "      <th>4</th>\n",
              "      <td>4</td>\n",
              "      <td>Asst. Manager</td>\n",
              "      <td>2016-06-11</td>\n",
              "    </tr>\n",
              "    <tr>\n",
              "      <th>5</th>\n",
              "      <td>7</td>\n",
              "      <td>Executive</td>\n",
              "      <td>2016-06-11</td>\n",
              "    </tr>\n",
              "    <tr>\n",
              "      <th>6</th>\n",
              "      <td>6</td>\n",
              "      <td>Lead</td>\n",
              "      <td>2016-06-11</td>\n",
              "    </tr>\n",
              "    <tr>\n",
              "      <th>7</th>\n",
              "      <td>3</td>\n",
              "      <td>Lead</td>\n",
              "      <td>2016-06-11</td>\n",
              "    </tr>\n",
              "  </tbody>\n",
              "</table>\n",
              "</div>"
            ],
            "text/plain": [
              "   WORKER_REF_ID   WORKER_TITLE AFFECTED_FROM\n",
              "0              1        Manager    2016-02-20\n",
              "1              2      Executive    2016-06-11\n",
              "2              8      Executive    2016-06-11\n",
              "3              5        Manager    2016-06-11\n",
              "4              4  Asst. Manager    2016-06-11\n",
              "5              7      Executive    2016-06-11\n",
              "6              6           Lead    2016-06-11\n",
              "7              3           Lead    2016-06-11"
            ]
          },
          "execution_count": 15,
          "metadata": {},
          "output_type": "execute_result"
        }
      ],
      "source": [
        "#second method for title table.\n",
        "\n",
        "title_table = pd.read_sql(\"select * from title;\", con=mydb)\n",
        "title_table"
      ]
    },
    {
      "cell_type": "markdown",
      "id": "88777c2f",
      "metadata": {
        "id": "88777c2f"
      },
      "source": [
        "##### Going forword, i will be querying the tables using the second method because i want the outputs displayed in dataframe\n",
        "\n",
        "##### Q-1. Write an SQL query to fetch “FIRST_NAME” from Worker table using the alias name as <WORKER_NAME>."
      ]
    },
    {
      "cell_type": "code",
      "execution_count": null,
      "id": "8a68ed60",
      "metadata": {
        "id": "8a68ed60",
        "outputId": "8c330a60-b96d-4c09-d9cd-5f2f1adc6c3b"
      },
      "outputs": [
        {
          "data": {
            "text/html": [
              "<div>\n",
              "<style scoped>\n",
              "    .dataframe tbody tr th:only-of-type {\n",
              "        vertical-align: middle;\n",
              "    }\n",
              "\n",
              "    .dataframe tbody tr th {\n",
              "        vertical-align: top;\n",
              "    }\n",
              "\n",
              "    .dataframe thead th {\n",
              "        text-align: right;\n",
              "    }\n",
              "</style>\n",
              "<table border=\"1\" class=\"dataframe\">\n",
              "  <thead>\n",
              "    <tr style=\"text-align: right;\">\n",
              "      <th></th>\n",
              "      <th>FN</th>\n",
              "    </tr>\n",
              "  </thead>\n",
              "  <tbody>\n",
              "    <tr>\n",
              "      <th>0</th>\n",
              "      <td>Monika</td>\n",
              "    </tr>\n",
              "    <tr>\n",
              "      <th>1</th>\n",
              "      <td>Niharika</td>\n",
              "    </tr>\n",
              "    <tr>\n",
              "      <th>2</th>\n",
              "      <td>Vishal</td>\n",
              "    </tr>\n",
              "    <tr>\n",
              "      <th>3</th>\n",
              "      <td>Amitabh</td>\n",
              "    </tr>\n",
              "    <tr>\n",
              "      <th>4</th>\n",
              "      <td>Vivek</td>\n",
              "    </tr>\n",
              "    <tr>\n",
              "      <th>5</th>\n",
              "      <td>Vipul</td>\n",
              "    </tr>\n",
              "    <tr>\n",
              "      <th>6</th>\n",
              "      <td>Satish</td>\n",
              "    </tr>\n",
              "    <tr>\n",
              "      <th>7</th>\n",
              "      <td>Geetika</td>\n",
              "    </tr>\n",
              "  </tbody>\n",
              "</table>\n",
              "</div>"
            ],
            "text/plain": [
              "         FN\n",
              "0    Monika\n",
              "1  Niharika\n",
              "2    Vishal\n",
              "3   Amitabh\n",
              "4     Vivek\n",
              "5     Vipul\n",
              "6    Satish\n",
              "7   Geetika"
            ]
          },
          "execution_count": 14,
          "metadata": {},
          "output_type": "execute_result"
        }
      ],
      "source": [
        "Ans1 = pd.read_sql(\"select FIRST_NAME as FN from worker;\", con=mydb)\n",
        "Ans1"
      ]
    },
    {
      "cell_type": "markdown",
      "id": "0d724443-c5ff-408a-8ffb-01ad429e0d0c",
      "metadata": {
        "id": "0d724443-c5ff-408a-8ffb-01ad429e0d0c"
      },
      "source": [
        ""
      ]
    },
    {
      "cell_type": "markdown",
      "id": "7d254de8",
      "metadata": {
        "id": "7d254de8"
      },
      "source": [
        "##### Q-2. Write an SQL query to fetch “FIRST_NAME” from Worker table in upper case."
      ]
    },
    {
      "cell_type": "code",
      "execution_count": null,
      "id": "0129914b",
      "metadata": {
        "id": "0129914b",
        "outputId": "4eb141b5-3fb7-4ed8-a8bd-943effe4ef07"
      },
      "outputs": [
        {
          "data": {
            "text/html": [
              "<div>\n",
              "<style scoped>\n",
              "    .dataframe tbody tr th:only-of-type {\n",
              "        vertical-align: middle;\n",
              "    }\n",
              "\n",
              "    .dataframe tbody tr th {\n",
              "        vertical-align: top;\n",
              "    }\n",
              "\n",
              "    .dataframe thead th {\n",
              "        text-align: right;\n",
              "    }\n",
              "</style>\n",
              "<table border=\"1\" class=\"dataframe\">\n",
              "  <thead>\n",
              "    <tr style=\"text-align: right;\">\n",
              "      <th></th>\n",
              "      <th>upper(FIRST_NAME)</th>\n",
              "    </tr>\n",
              "  </thead>\n",
              "  <tbody>\n",
              "    <tr>\n",
              "      <th>0</th>\n",
              "      <td>MONIKA</td>\n",
              "    </tr>\n",
              "    <tr>\n",
              "      <th>1</th>\n",
              "      <td>NIHARIKA</td>\n",
              "    </tr>\n",
              "    <tr>\n",
              "      <th>2</th>\n",
              "      <td>VISHAL</td>\n",
              "    </tr>\n",
              "    <tr>\n",
              "      <th>3</th>\n",
              "      <td>AMITABH</td>\n",
              "    </tr>\n",
              "    <tr>\n",
              "      <th>4</th>\n",
              "      <td>VIVEK</td>\n",
              "    </tr>\n",
              "    <tr>\n",
              "      <th>5</th>\n",
              "      <td>VIPUL</td>\n",
              "    </tr>\n",
              "    <tr>\n",
              "      <th>6</th>\n",
              "      <td>SATISH</td>\n",
              "    </tr>\n",
              "    <tr>\n",
              "      <th>7</th>\n",
              "      <td>GEETIKA</td>\n",
              "    </tr>\n",
              "  </tbody>\n",
              "</table>\n",
              "</div>"
            ],
            "text/plain": [
              "  upper(FIRST_NAME)\n",
              "0            MONIKA\n",
              "1          NIHARIKA\n",
              "2            VISHAL\n",
              "3           AMITABH\n",
              "4             VIVEK\n",
              "5             VIPUL\n",
              "6            SATISH\n",
              "7           GEETIKA"
            ]
          },
          "execution_count": 15,
          "metadata": {},
          "output_type": "execute_result"
        }
      ],
      "source": [
        "Ans2 = pd.read_sql(\"select upper(FIRST_NAME) from worker;\", con=mydb)\n",
        "Ans2"
      ]
    },
    {
      "cell_type": "code",
      "execution_count": null,
      "id": "e3e66012",
      "metadata": {
        "id": "e3e66012"
      },
      "outputs": [],
      "source": [
        ""
      ]
    },
    {
      "cell_type": "markdown",
      "id": "bfaeb965",
      "metadata": {
        "id": "bfaeb965"
      },
      "source": [
        "##### Q-3. Write an SQL query to fetch unique values of DEPARTMENT from Worker table."
      ]
    },
    {
      "cell_type": "code",
      "execution_count": null,
      "id": "a1ced94d",
      "metadata": {
        "id": "a1ced94d",
        "outputId": "b37191c9-dc18-4801-ceca-37b50d0a07a4"
      },
      "outputs": [
        {
          "data": {
            "text/html": [
              "<div>\n",
              "<style scoped>\n",
              "    .dataframe tbody tr th:only-of-type {\n",
              "        vertical-align: middle;\n",
              "    }\n",
              "\n",
              "    .dataframe tbody tr th {\n",
              "        vertical-align: top;\n",
              "    }\n",
              "\n",
              "    .dataframe thead th {\n",
              "        text-align: right;\n",
              "    }\n",
              "</style>\n",
              "<table border=\"1\" class=\"dataframe\">\n",
              "  <thead>\n",
              "    <tr style=\"text-align: right;\">\n",
              "      <th></th>\n",
              "      <th>DEPARTMENT</th>\n",
              "    </tr>\n",
              "  </thead>\n",
              "  <tbody>\n",
              "    <tr>\n",
              "      <th>0</th>\n",
              "      <td>HR</td>\n",
              "    </tr>\n",
              "    <tr>\n",
              "      <th>1</th>\n",
              "      <td>Admin</td>\n",
              "    </tr>\n",
              "    <tr>\n",
              "      <th>2</th>\n",
              "      <td>Account</td>\n",
              "    </tr>\n",
              "  </tbody>\n",
              "</table>\n",
              "</div>"
            ],
            "text/plain": [
              "  DEPARTMENT\n",
              "0         HR\n",
              "1      Admin\n",
              "2    Account"
            ]
          },
          "execution_count": 16,
          "metadata": {},
          "output_type": "execute_result"
        }
      ],
      "source": [
        "Ans3 = pd.read_sql(\"select distinct(DEPARTMENT) from worker;\", con=mydb)\n",
        "Ans3"
      ]
    },
    {
      "cell_type": "code",
      "execution_count": null,
      "id": "6578c373",
      "metadata": {
        "id": "6578c373"
      },
      "outputs": [],
      "source": [
        ""
      ]
    },
    {
      "cell_type": "markdown",
      "id": "2e02faf6",
      "metadata": {
        "id": "2e02faf6"
      },
      "source": [
        "##### Q-4. Write an SQL query to print the first three characters of  FIRST_NAME from Worker table."
      ]
    },
    {
      "cell_type": "code",
      "execution_count": null,
      "id": "f2f73680",
      "metadata": {
        "id": "f2f73680",
        "outputId": "a02f9495-cbde-4aef-f97f-e5265db6d6c7"
      },
      "outputs": [
        {
          "data": {
            "text/html": [
              "<div>\n",
              "<style scoped>\n",
              "    .dataframe tbody tr th:only-of-type {\n",
              "        vertical-align: middle;\n",
              "    }\n",
              "\n",
              "    .dataframe tbody tr th {\n",
              "        vertical-align: top;\n",
              "    }\n",
              "\n",
              "    .dataframe thead th {\n",
              "        text-align: right;\n",
              "    }\n",
              "</style>\n",
              "<table border=\"1\" class=\"dataframe\">\n",
              "  <thead>\n",
              "    <tr style=\"text-align: right;\">\n",
              "      <th></th>\n",
              "      <th>substring(FIRST_NAME,1,3)</th>\n",
              "    </tr>\n",
              "  </thead>\n",
              "  <tbody>\n",
              "    <tr>\n",
              "      <th>0</th>\n",
              "      <td>Mon</td>\n",
              "    </tr>\n",
              "    <tr>\n",
              "      <th>1</th>\n",
              "      <td>Nih</td>\n",
              "    </tr>\n",
              "    <tr>\n",
              "      <th>2</th>\n",
              "      <td>Vis</td>\n",
              "    </tr>\n",
              "    <tr>\n",
              "      <th>3</th>\n",
              "      <td>Ami</td>\n",
              "    </tr>\n",
              "    <tr>\n",
              "      <th>4</th>\n",
              "      <td>Viv</td>\n",
              "    </tr>\n",
              "    <tr>\n",
              "      <th>5</th>\n",
              "      <td>Vip</td>\n",
              "    </tr>\n",
              "    <tr>\n",
              "      <th>6</th>\n",
              "      <td>Sat</td>\n",
              "    </tr>\n",
              "    <tr>\n",
              "      <th>7</th>\n",
              "      <td>Gee</td>\n",
              "    </tr>\n",
              "  </tbody>\n",
              "</table>\n",
              "</div>"
            ],
            "text/plain": [
              "  substring(FIRST_NAME,1,3)\n",
              "0                       Mon\n",
              "1                       Nih\n",
              "2                       Vis\n",
              "3                       Ami\n",
              "4                       Viv\n",
              "5                       Vip\n",
              "6                       Sat\n",
              "7                       Gee"
            ]
          },
          "execution_count": 17,
          "metadata": {},
          "output_type": "execute_result"
        }
      ],
      "source": [
        "Ans4 = pd.read_sql(\"Select substring(FIRST_NAME,1,3) from Worker;\", con=mydb)\n",
        "Ans4"
      ]
    },
    {
      "cell_type": "code",
      "execution_count": null,
      "id": "92fd0e5c",
      "metadata": {
        "id": "92fd0e5c"
      },
      "outputs": [],
      "source": [
        ""
      ]
    },
    {
      "cell_type": "markdown",
      "id": "64bb1fc5",
      "metadata": {
        "id": "64bb1fc5"
      },
      "source": [
        "##### Q-5. Write an SQL query to find the position of the alphabet (‘A’) in the first name column ‘Amitabh’ from Worker table."
      ]
    },
    {
      "cell_type": "code",
      "execution_count": null,
      "id": "578f7b27",
      "metadata": {
        "id": "578f7b27",
        "outputId": "83433b01-77a9-4161-fb50-a1a362f7b184"
      },
      "outputs": [
        {
          "data": {
            "text/html": [
              "<div>\n",
              "<style scoped>\n",
              "    .dataframe tbody tr th:only-of-type {\n",
              "        vertical-align: middle;\n",
              "    }\n",
              "\n",
              "    .dataframe tbody tr th {\n",
              "        vertical-align: top;\n",
              "    }\n",
              "\n",
              "    .dataframe thead th {\n",
              "        text-align: right;\n",
              "    }\n",
              "</style>\n",
              "<table border=\"1\" class=\"dataframe\">\n",
              "  <thead>\n",
              "    <tr style=\"text-align: right;\">\n",
              "      <th></th>\n",
              "      <th>INSTR(FIRST_NAME, BINARY'A')</th>\n",
              "    </tr>\n",
              "  </thead>\n",
              "  <tbody>\n",
              "    <tr>\n",
              "      <th>0</th>\n",
              "      <td>1</td>\n",
              "    </tr>\n",
              "  </tbody>\n",
              "</table>\n",
              "</div>"
            ],
            "text/plain": [
              "   INSTR(FIRST_NAME, BINARY'A')\n",
              "0                             1"
            ]
          },
          "execution_count": 18,
          "metadata": {},
          "output_type": "execute_result"
        }
      ],
      "source": [
        "Ans5 = pd.read_sql(\"Select INSTR(FIRST_NAME, BINARY'A') from Worker where FIRST_NAME = 'Amitabh';\", con=mydb)\n",
        "Ans5"
      ]
    },
    {
      "cell_type": "code",
      "execution_count": null,
      "id": "b6344d43",
      "metadata": {
        "id": "b6344d43"
      },
      "outputs": [],
      "source": [
        ""
      ]
    },
    {
      "cell_type": "markdown",
      "id": "9a02f744",
      "metadata": {
        "id": "9a02f744"
      },
      "source": [
        "##### Q-6. Write an SQL query to print the FIRST_NAME from Worker table after removing white spaces from the right side."
      ]
    },
    {
      "cell_type": "code",
      "execution_count": null,
      "id": "a87d6532",
      "metadata": {
        "id": "a87d6532",
        "outputId": "e977ff56-6072-4c38-d8c0-c98bf980b2d0"
      },
      "outputs": [
        {
          "data": {
            "text/html": [
              "<div>\n",
              "<style scoped>\n",
              "    .dataframe tbody tr th:only-of-type {\n",
              "        vertical-align: middle;\n",
              "    }\n",
              "\n",
              "    .dataframe tbody tr th {\n",
              "        vertical-align: top;\n",
              "    }\n",
              "\n",
              "    .dataframe thead th {\n",
              "        text-align: right;\n",
              "    }\n",
              "</style>\n",
              "<table border=\"1\" class=\"dataframe\">\n",
              "  <thead>\n",
              "    <tr style=\"text-align: right;\">\n",
              "      <th></th>\n",
              "      <th>RTRIM(FIRST_NAME)</th>\n",
              "    </tr>\n",
              "  </thead>\n",
              "  <tbody>\n",
              "    <tr>\n",
              "      <th>0</th>\n",
              "      <td>Monika</td>\n",
              "    </tr>\n",
              "    <tr>\n",
              "      <th>1</th>\n",
              "      <td>Niharika</td>\n",
              "    </tr>\n",
              "    <tr>\n",
              "      <th>2</th>\n",
              "      <td>Vishal</td>\n",
              "    </tr>\n",
              "    <tr>\n",
              "      <th>3</th>\n",
              "      <td>Amitabh</td>\n",
              "    </tr>\n",
              "    <tr>\n",
              "      <th>4</th>\n",
              "      <td>Vivek</td>\n",
              "    </tr>\n",
              "    <tr>\n",
              "      <th>5</th>\n",
              "      <td>Vipul</td>\n",
              "    </tr>\n",
              "    <tr>\n",
              "      <th>6</th>\n",
              "      <td>Satish</td>\n",
              "    </tr>\n",
              "    <tr>\n",
              "      <th>7</th>\n",
              "      <td>Geetika</td>\n",
              "    </tr>\n",
              "  </tbody>\n",
              "</table>\n",
              "</div>"
            ],
            "text/plain": [
              "  RTRIM(FIRST_NAME)\n",
              "0            Monika\n",
              "1          Niharika\n",
              "2            Vishal\n",
              "3           Amitabh\n",
              "4             Vivek\n",
              "5             Vipul\n",
              "6            Satish\n",
              "7           Geetika"
            ]
          },
          "execution_count": 19,
          "metadata": {},
          "output_type": "execute_result"
        }
      ],
      "source": [
        "Ans6 = pd.read_sql(\"Select RTRIM(FIRST_NAME) from Worker;\", con=mydb)\n",
        "Ans6"
      ]
    },
    {
      "cell_type": "code",
      "execution_count": null,
      "id": "5d5b0b2f",
      "metadata": {
        "id": "5d5b0b2f"
      },
      "outputs": [],
      "source": [
        ""
      ]
    },
    {
      "cell_type": "markdown",
      "id": "3b418258",
      "metadata": {
        "id": "3b418258"
      },
      "source": [
        "##### Q-7. Write an SQL query to print the DEPARTMENT from Worker table after removing white spaces from the left side."
      ]
    },
    {
      "cell_type": "code",
      "execution_count": null,
      "id": "cbcd2876",
      "metadata": {
        "id": "cbcd2876",
        "outputId": "7e83f202-dd62-48c6-d765-7c6e8d5b6fcc"
      },
      "outputs": [
        {
          "data": {
            "text/html": [
              "<div>\n",
              "<style scoped>\n",
              "    .dataframe tbody tr th:only-of-type {\n",
              "        vertical-align: middle;\n",
              "    }\n",
              "\n",
              "    .dataframe tbody tr th {\n",
              "        vertical-align: top;\n",
              "    }\n",
              "\n",
              "    .dataframe thead th {\n",
              "        text-align: right;\n",
              "    }\n",
              "</style>\n",
              "<table border=\"1\" class=\"dataframe\">\n",
              "  <thead>\n",
              "    <tr style=\"text-align: right;\">\n",
              "      <th></th>\n",
              "      <th>LTRIM(DEPARTMENT)</th>\n",
              "    </tr>\n",
              "  </thead>\n",
              "  <tbody>\n",
              "    <tr>\n",
              "      <th>0</th>\n",
              "      <td>HR</td>\n",
              "    </tr>\n",
              "    <tr>\n",
              "      <th>1</th>\n",
              "      <td>Admin</td>\n",
              "    </tr>\n",
              "    <tr>\n",
              "      <th>2</th>\n",
              "      <td>HR</td>\n",
              "    </tr>\n",
              "    <tr>\n",
              "      <th>3</th>\n",
              "      <td>Admin</td>\n",
              "    </tr>\n",
              "    <tr>\n",
              "      <th>4</th>\n",
              "      <td>Admin</td>\n",
              "    </tr>\n",
              "    <tr>\n",
              "      <th>5</th>\n",
              "      <td>Account</td>\n",
              "    </tr>\n",
              "    <tr>\n",
              "      <th>6</th>\n",
              "      <td>Account</td>\n",
              "    </tr>\n",
              "    <tr>\n",
              "      <th>7</th>\n",
              "      <td>Admin</td>\n",
              "    </tr>\n",
              "  </tbody>\n",
              "</table>\n",
              "</div>"
            ],
            "text/plain": [
              "  LTRIM(DEPARTMENT)\n",
              "0                HR\n",
              "1             Admin\n",
              "2                HR\n",
              "3             Admin\n",
              "4             Admin\n",
              "5           Account\n",
              "6           Account\n",
              "7             Admin"
            ]
          },
          "execution_count": 20,
          "metadata": {},
          "output_type": "execute_result"
        }
      ],
      "source": [
        "Ans7 = pd.read_sql(\"Select LTRIM(DEPARTMENT) from Worker;\", con=mydb)\n",
        "Ans7"
      ]
    },
    {
      "cell_type": "code",
      "execution_count": null,
      "id": "bf809eca",
      "metadata": {
        "id": "bf809eca"
      },
      "outputs": [],
      "source": [
        ""
      ]
    },
    {
      "cell_type": "markdown",
      "id": "1e4fe8ec",
      "metadata": {
        "id": "1e4fe8ec"
      },
      "source": [
        "##### Q-8. Write an SQL query that fetches the unique values of DEPARTMENT from Worker table and prints its length."
      ]
    },
    {
      "cell_type": "code",
      "execution_count": null,
      "id": "e075f4c9",
      "metadata": {
        "id": "e075f4c9",
        "outputId": "9b2f771f-28f4-46ea-efc4-b92c907f4a76"
      },
      "outputs": [
        {
          "data": {
            "text/html": [
              "<div>\n",
              "<style scoped>\n",
              "    .dataframe tbody tr th:only-of-type {\n",
              "        vertical-align: middle;\n",
              "    }\n",
              "\n",
              "    .dataframe tbody tr th {\n",
              "        vertical-align: top;\n",
              "    }\n",
              "\n",
              "    .dataframe thead th {\n",
              "        text-align: right;\n",
              "    }\n",
              "</style>\n",
              "<table border=\"1\" class=\"dataframe\">\n",
              "  <thead>\n",
              "    <tr style=\"text-align: right;\">\n",
              "      <th></th>\n",
              "      <th>length(DEPARTMENT)</th>\n",
              "    </tr>\n",
              "  </thead>\n",
              "  <tbody>\n",
              "    <tr>\n",
              "      <th>0</th>\n",
              "      <td>2</td>\n",
              "    </tr>\n",
              "    <tr>\n",
              "      <th>1</th>\n",
              "      <td>5</td>\n",
              "    </tr>\n",
              "    <tr>\n",
              "      <th>2</th>\n",
              "      <td>7</td>\n",
              "    </tr>\n",
              "  </tbody>\n",
              "</table>\n",
              "</div>"
            ],
            "text/plain": [
              "   length(DEPARTMENT)\n",
              "0                   2\n",
              "1                   5\n",
              "2                   7"
            ]
          },
          "execution_count": 21,
          "metadata": {},
          "output_type": "execute_result"
        }
      ],
      "source": [
        "Ans8 = pd.read_sql(\"Select distinct length(DEPARTMENT) from Worker;\", con=mydb)\n",
        "Ans8"
      ]
    },
    {
      "cell_type": "code",
      "execution_count": null,
      "id": "2771c0ec",
      "metadata": {
        "id": "2771c0ec"
      },
      "outputs": [],
      "source": [
        ""
      ]
    },
    {
      "cell_type": "markdown",
      "id": "e8900f77",
      "metadata": {
        "id": "e8900f77"
      },
      "source": [
        "##### Q-9. Write an SQL query to print the FIRST_NAME from Worker table after replacing ‘a’ with ‘A’."
      ]
    },
    {
      "cell_type": "code",
      "execution_count": null,
      "id": "60255e0f",
      "metadata": {
        "id": "60255e0f",
        "outputId": "fd0d98cf-146b-4383-92c8-f750a640af69"
      },
      "outputs": [
        {
          "data": {
            "text/html": [
              "<div>\n",
              "<style scoped>\n",
              "    .dataframe tbody tr th:only-of-type {\n",
              "        vertical-align: middle;\n",
              "    }\n",
              "\n",
              "    .dataframe tbody tr th {\n",
              "        vertical-align: top;\n",
              "    }\n",
              "\n",
              "    .dataframe thead th {\n",
              "        text-align: right;\n",
              "    }\n",
              "</style>\n",
              "<table border=\"1\" class=\"dataframe\">\n",
              "  <thead>\n",
              "    <tr style=\"text-align: right;\">\n",
              "      <th></th>\n",
              "      <th>REPLACE(FIRST_NAME,'a','A')</th>\n",
              "    </tr>\n",
              "  </thead>\n",
              "  <tbody>\n",
              "    <tr>\n",
              "      <th>0</th>\n",
              "      <td>MonikA</td>\n",
              "    </tr>\n",
              "    <tr>\n",
              "      <th>1</th>\n",
              "      <td>NihArikA</td>\n",
              "    </tr>\n",
              "    <tr>\n",
              "      <th>2</th>\n",
              "      <td>VishAl</td>\n",
              "    </tr>\n",
              "    <tr>\n",
              "      <th>3</th>\n",
              "      <td>AmitAbh</td>\n",
              "    </tr>\n",
              "    <tr>\n",
              "      <th>4</th>\n",
              "      <td>Vivek</td>\n",
              "    </tr>\n",
              "    <tr>\n",
              "      <th>5</th>\n",
              "      <td>Vipul</td>\n",
              "    </tr>\n",
              "    <tr>\n",
              "      <th>6</th>\n",
              "      <td>SAtish</td>\n",
              "    </tr>\n",
              "    <tr>\n",
              "      <th>7</th>\n",
              "      <td>GeetikA</td>\n",
              "    </tr>\n",
              "  </tbody>\n",
              "</table>\n",
              "</div>"
            ],
            "text/plain": [
              "  REPLACE(FIRST_NAME,'a','A')\n",
              "0                      MonikA\n",
              "1                    NihArikA\n",
              "2                      VishAl\n",
              "3                     AmitAbh\n",
              "4                       Vivek\n",
              "5                       Vipul\n",
              "6                      SAtish\n",
              "7                     GeetikA"
            ]
          },
          "execution_count": 22,
          "metadata": {},
          "output_type": "execute_result"
        }
      ],
      "source": [
        "Ans9 = pd.read_sql(\"Select REPLACE(FIRST_NAME,'a','A') from Worker;\", con=mydb)\n",
        "Ans9"
      ]
    },
    {
      "cell_type": "code",
      "execution_count": null,
      "id": "8a45470d",
      "metadata": {
        "id": "8a45470d"
      },
      "outputs": [],
      "source": [
        ""
      ]
    },
    {
      "cell_type": "markdown",
      "id": "c9cd159c",
      "metadata": {
        "id": "c9cd159c"
      },
      "source": [
        "##### Q-10. Write an SQL query to print the FIRST_NAME and LAST_NAME from Worker table into a single column COMPLETE_NAME. A space char should separate them."
      ]
    },
    {
      "cell_type": "code",
      "execution_count": null,
      "id": "4040d31f",
      "metadata": {
        "id": "4040d31f",
        "outputId": "902dd9a8-b061-4094-e778-89c49ba46b82"
      },
      "outputs": [
        {
          "data": {
            "text/html": [
              "<div>\n",
              "<style scoped>\n",
              "    .dataframe tbody tr th:only-of-type {\n",
              "        vertical-align: middle;\n",
              "    }\n",
              "\n",
              "    .dataframe tbody tr th {\n",
              "        vertical-align: top;\n",
              "    }\n",
              "\n",
              "    .dataframe thead th {\n",
              "        text-align: right;\n",
              "    }\n",
              "</style>\n",
              "<table border=\"1\" class=\"dataframe\">\n",
              "  <thead>\n",
              "    <tr style=\"text-align: right;\">\n",
              "      <th></th>\n",
              "      <th>COMPLETE_NAME</th>\n",
              "    </tr>\n",
              "  </thead>\n",
              "  <tbody>\n",
              "    <tr>\n",
              "      <th>0</th>\n",
              "      <td>Monika Arora</td>\n",
              "    </tr>\n",
              "    <tr>\n",
              "      <th>1</th>\n",
              "      <td>Niharika Verma</td>\n",
              "    </tr>\n",
              "    <tr>\n",
              "      <th>2</th>\n",
              "      <td>Vishal Singhal</td>\n",
              "    </tr>\n",
              "    <tr>\n",
              "      <th>3</th>\n",
              "      <td>Amitabh Singh</td>\n",
              "    </tr>\n",
              "    <tr>\n",
              "      <th>4</th>\n",
              "      <td>Vivek Bhati</td>\n",
              "    </tr>\n",
              "    <tr>\n",
              "      <th>5</th>\n",
              "      <td>Vipul Diwan</td>\n",
              "    </tr>\n",
              "    <tr>\n",
              "      <th>6</th>\n",
              "      <td>Satish Kumar</td>\n",
              "    </tr>\n",
              "    <tr>\n",
              "      <th>7</th>\n",
              "      <td>Geetika Chauhan</td>\n",
              "    </tr>\n",
              "  </tbody>\n",
              "</table>\n",
              "</div>"
            ],
            "text/plain": [
              "     COMPLETE_NAME\n",
              "0     Monika Arora\n",
              "1   Niharika Verma\n",
              "2   Vishal Singhal\n",
              "3    Amitabh Singh\n",
              "4      Vivek Bhati\n",
              "5      Vipul Diwan\n",
              "6     Satish Kumar\n",
              "7  Geetika Chauhan"
            ]
          },
          "execution_count": 23,
          "metadata": {},
          "output_type": "execute_result"
        }
      ],
      "source": [
        "Ans10 = pd.read_sql(\"Select concat(FIRST_NAME,' ', LAST_NAME) as COMPLETE_NAME from Worker;\", con=mydb)\n",
        "Ans10"
      ]
    },
    {
      "cell_type": "code",
      "execution_count": null,
      "id": "6fad71e3",
      "metadata": {
        "id": "6fad71e3"
      },
      "outputs": [],
      "source": [
        ""
      ]
    },
    {
      "cell_type": "markdown",
      "id": "1798a0b5",
      "metadata": {
        "id": "1798a0b5"
      },
      "source": [
        "##### Q-11. Write an SQL query to print all Worker details from the Worker table order by FIRST_NAME Ascending."
      ]
    },
    {
      "cell_type": "code",
      "execution_count": null,
      "id": "c373cd5e",
      "metadata": {
        "id": "c373cd5e",
        "outputId": "20f92949-59df-4ee7-e347-22419720e5b7"
      },
      "outputs": [
        {
          "data": {
            "text/html": [
              "<div>\n",
              "<style scoped>\n",
              "    .dataframe tbody tr th:only-of-type {\n",
              "        vertical-align: middle;\n",
              "    }\n",
              "\n",
              "    .dataframe tbody tr th {\n",
              "        vertical-align: top;\n",
              "    }\n",
              "\n",
              "    .dataframe thead th {\n",
              "        text-align: right;\n",
              "    }\n",
              "</style>\n",
              "<table border=\"1\" class=\"dataframe\">\n",
              "  <thead>\n",
              "    <tr style=\"text-align: right;\">\n",
              "      <th></th>\n",
              "      <th>WORKER_ID</th>\n",
              "      <th>FIRST_NAME</th>\n",
              "      <th>LAST_NAME</th>\n",
              "      <th>SALARY</th>\n",
              "      <th>JOINING_DATE</th>\n",
              "      <th>DEPARTMENT</th>\n",
              "    </tr>\n",
              "  </thead>\n",
              "  <tbody>\n",
              "    <tr>\n",
              "      <th>0</th>\n",
              "      <td>4</td>\n",
              "      <td>Amitabh</td>\n",
              "      <td>Singh</td>\n",
              "      <td>500000</td>\n",
              "      <td>2014-02-20 09:00:00</td>\n",
              "      <td>Admin</td>\n",
              "    </tr>\n",
              "    <tr>\n",
              "      <th>1</th>\n",
              "      <td>8</td>\n",
              "      <td>Geetika</td>\n",
              "      <td>Chauhan</td>\n",
              "      <td>90000</td>\n",
              "      <td>2014-04-11 09:00:00</td>\n",
              "      <td>Admin</td>\n",
              "    </tr>\n",
              "    <tr>\n",
              "      <th>2</th>\n",
              "      <td>1</td>\n",
              "      <td>Monika</td>\n",
              "      <td>Arora</td>\n",
              "      <td>100000</td>\n",
              "      <td>2014-02-20 09:00:00</td>\n",
              "      <td>HR</td>\n",
              "    </tr>\n",
              "    <tr>\n",
              "      <th>3</th>\n",
              "      <td>2</td>\n",
              "      <td>Niharika</td>\n",
              "      <td>Verma</td>\n",
              "      <td>80000</td>\n",
              "      <td>2014-06-11 09:00:00</td>\n",
              "      <td>Admin</td>\n",
              "    </tr>\n",
              "    <tr>\n",
              "      <th>4</th>\n",
              "      <td>7</td>\n",
              "      <td>Satish</td>\n",
              "      <td>Kumar</td>\n",
              "      <td>75000</td>\n",
              "      <td>2014-01-20 09:00:00</td>\n",
              "      <td>Account</td>\n",
              "    </tr>\n",
              "    <tr>\n",
              "      <th>5</th>\n",
              "      <td>6</td>\n",
              "      <td>Vipul</td>\n",
              "      <td>Diwan</td>\n",
              "      <td>200000</td>\n",
              "      <td>2014-06-11 09:00:00</td>\n",
              "      <td>Account</td>\n",
              "    </tr>\n",
              "    <tr>\n",
              "      <th>6</th>\n",
              "      <td>3</td>\n",
              "      <td>Vishal</td>\n",
              "      <td>Singhal</td>\n",
              "      <td>300000</td>\n",
              "      <td>2014-02-20 09:00:00</td>\n",
              "      <td>HR</td>\n",
              "    </tr>\n",
              "    <tr>\n",
              "      <th>7</th>\n",
              "      <td>5</td>\n",
              "      <td>Vivek</td>\n",
              "      <td>Bhati</td>\n",
              "      <td>500000</td>\n",
              "      <td>2014-06-11 09:00:00</td>\n",
              "      <td>Admin</td>\n",
              "    </tr>\n",
              "  </tbody>\n",
              "</table>\n",
              "</div>"
            ],
            "text/plain": [
              "   WORKER_ID FIRST_NAME LAST_NAME  SALARY        JOINING_DATE DEPARTMENT\n",
              "0          4    Amitabh     Singh  500000 2014-02-20 09:00:00      Admin\n",
              "1          8    Geetika   Chauhan   90000 2014-04-11 09:00:00      Admin\n",
              "2          1     Monika     Arora  100000 2014-02-20 09:00:00         HR\n",
              "3          2   Niharika     Verma   80000 2014-06-11 09:00:00      Admin\n",
              "4          7     Satish     Kumar   75000 2014-01-20 09:00:00    Account\n",
              "5          6      Vipul     Diwan  200000 2014-06-11 09:00:00    Account\n",
              "6          3     Vishal   Singhal  300000 2014-02-20 09:00:00         HR\n",
              "7          5      Vivek     Bhati  500000 2014-06-11 09:00:00      Admin"
            ]
          },
          "execution_count": 24,
          "metadata": {},
          "output_type": "execute_result"
        }
      ],
      "source": [
        "Ans11 = pd.read_sql(\"Select * from Worker order by FIRST_NAME ;\", con=mydb)\n",
        "Ans11 # \"order by\" statement is in an ascending format by default"
      ]
    },
    {
      "cell_type": "code",
      "execution_count": null,
      "id": "228d59a2",
      "metadata": {
        "id": "228d59a2"
      },
      "outputs": [],
      "source": [
        ""
      ]
    },
    {
      "cell_type": "markdown",
      "id": "e0f7c252",
      "metadata": {
        "id": "e0f7c252"
      },
      "source": [
        "##### Q-12. Write an SQL query to print all Worker details from the Worker table order by FIRST_NAME Ascending and DEPARTMENT Descending."
      ]
    },
    {
      "cell_type": "code",
      "execution_count": null,
      "id": "ecb7da78",
      "metadata": {
        "id": "ecb7da78",
        "outputId": "b9a7267b-6cbb-4aa9-e365-559cc2a331bc"
      },
      "outputs": [
        {
          "data": {
            "text/html": [
              "<div>\n",
              "<style scoped>\n",
              "    .dataframe tbody tr th:only-of-type {\n",
              "        vertical-align: middle;\n",
              "    }\n",
              "\n",
              "    .dataframe tbody tr th {\n",
              "        vertical-align: top;\n",
              "    }\n",
              "\n",
              "    .dataframe thead th {\n",
              "        text-align: right;\n",
              "    }\n",
              "</style>\n",
              "<table border=\"1\" class=\"dataframe\">\n",
              "  <thead>\n",
              "    <tr style=\"text-align: right;\">\n",
              "      <th></th>\n",
              "      <th>WORKER_ID</th>\n",
              "      <th>FIRST_NAME</th>\n",
              "      <th>LAST_NAME</th>\n",
              "      <th>SALARY</th>\n",
              "      <th>JOINING_DATE</th>\n",
              "      <th>DEPARTMENT</th>\n",
              "    </tr>\n",
              "  </thead>\n",
              "  <tbody>\n",
              "    <tr>\n",
              "      <th>0</th>\n",
              "      <td>4</td>\n",
              "      <td>Amitabh</td>\n",
              "      <td>Singh</td>\n",
              "      <td>500000</td>\n",
              "      <td>2014-02-20 09:00:00</td>\n",
              "      <td>Admin</td>\n",
              "    </tr>\n",
              "    <tr>\n",
              "      <th>1</th>\n",
              "      <td>8</td>\n",
              "      <td>Geetika</td>\n",
              "      <td>Chauhan</td>\n",
              "      <td>90000</td>\n",
              "      <td>2014-04-11 09:00:00</td>\n",
              "      <td>Admin</td>\n",
              "    </tr>\n",
              "    <tr>\n",
              "      <th>2</th>\n",
              "      <td>1</td>\n",
              "      <td>Monika</td>\n",
              "      <td>Arora</td>\n",
              "      <td>100000</td>\n",
              "      <td>2014-02-20 09:00:00</td>\n",
              "      <td>HR</td>\n",
              "    </tr>\n",
              "    <tr>\n",
              "      <th>3</th>\n",
              "      <td>2</td>\n",
              "      <td>Niharika</td>\n",
              "      <td>Verma</td>\n",
              "      <td>80000</td>\n",
              "      <td>2014-06-11 09:00:00</td>\n",
              "      <td>Admin</td>\n",
              "    </tr>\n",
              "    <tr>\n",
              "      <th>4</th>\n",
              "      <td>7</td>\n",
              "      <td>Satish</td>\n",
              "      <td>Kumar</td>\n",
              "      <td>75000</td>\n",
              "      <td>2014-01-20 09:00:00</td>\n",
              "      <td>Account</td>\n",
              "    </tr>\n",
              "    <tr>\n",
              "      <th>5</th>\n",
              "      <td>6</td>\n",
              "      <td>Vipul</td>\n",
              "      <td>Diwan</td>\n",
              "      <td>200000</td>\n",
              "      <td>2014-06-11 09:00:00</td>\n",
              "      <td>Account</td>\n",
              "    </tr>\n",
              "    <tr>\n",
              "      <th>6</th>\n",
              "      <td>3</td>\n",
              "      <td>Vishal</td>\n",
              "      <td>Singhal</td>\n",
              "      <td>300000</td>\n",
              "      <td>2014-02-20 09:00:00</td>\n",
              "      <td>HR</td>\n",
              "    </tr>\n",
              "    <tr>\n",
              "      <th>7</th>\n",
              "      <td>5</td>\n",
              "      <td>Vivek</td>\n",
              "      <td>Bhati</td>\n",
              "      <td>500000</td>\n",
              "      <td>2014-06-11 09:00:00</td>\n",
              "      <td>Admin</td>\n",
              "    </tr>\n",
              "  </tbody>\n",
              "</table>\n",
              "</div>"
            ],
            "text/plain": [
              "   WORKER_ID FIRST_NAME LAST_NAME  SALARY        JOINING_DATE DEPARTMENT\n",
              "0          4    Amitabh     Singh  500000 2014-02-20 09:00:00      Admin\n",
              "1          8    Geetika   Chauhan   90000 2014-04-11 09:00:00      Admin\n",
              "2          1     Monika     Arora  100000 2014-02-20 09:00:00         HR\n",
              "3          2   Niharika     Verma   80000 2014-06-11 09:00:00      Admin\n",
              "4          7     Satish     Kumar   75000 2014-01-20 09:00:00    Account\n",
              "5          6      Vipul     Diwan  200000 2014-06-11 09:00:00    Account\n",
              "6          3     Vishal   Singhal  300000 2014-02-20 09:00:00         HR\n",
              "7          5      Vivek     Bhati  500000 2014-06-11 09:00:00      Admin"
            ]
          },
          "execution_count": 25,
          "metadata": {},
          "output_type": "execute_result"
        }
      ],
      "source": [
        "Ans12 = pd.read_sql(\"Select * from Worker order by FIRST_NAME asc, DEPARTMENT desc;\", con=mydb)\n",
        "Ans12"
      ]
    },
    {
      "cell_type": "code",
      "execution_count": null,
      "id": "3cdc34dd",
      "metadata": {
        "id": "3cdc34dd"
      },
      "outputs": [],
      "source": [
        ""
      ]
    },
    {
      "cell_type": "markdown",
      "id": "adefa166",
      "metadata": {
        "id": "adefa166"
      },
      "source": [
        "##### Q-13. Write an SQL query to print details for Workers with the first name as “Vipul” and “Satish” from Worker table."
      ]
    },
    {
      "cell_type": "code",
      "execution_count": null,
      "id": "d623278a",
      "metadata": {
        "id": "d623278a",
        "outputId": "b217d36c-f5b1-444e-e3e0-aa18a5f914c3"
      },
      "outputs": [
        {
          "data": {
            "text/html": [
              "<div>\n",
              "<style scoped>\n",
              "    .dataframe tbody tr th:only-of-type {\n",
              "        vertical-align: middle;\n",
              "    }\n",
              "\n",
              "    .dataframe tbody tr th {\n",
              "        vertical-align: top;\n",
              "    }\n",
              "\n",
              "    .dataframe thead th {\n",
              "        text-align: right;\n",
              "    }\n",
              "</style>\n",
              "<table border=\"1\" class=\"dataframe\">\n",
              "  <thead>\n",
              "    <tr style=\"text-align: right;\">\n",
              "      <th></th>\n",
              "      <th>WORKER_ID</th>\n",
              "      <th>FIRST_NAME</th>\n",
              "      <th>LAST_NAME</th>\n",
              "      <th>SALARY</th>\n",
              "      <th>JOINING_DATE</th>\n",
              "      <th>DEPARTMENT</th>\n",
              "    </tr>\n",
              "  </thead>\n",
              "  <tbody>\n",
              "    <tr>\n",
              "      <th>0</th>\n",
              "      <td>6</td>\n",
              "      <td>Vipul</td>\n",
              "      <td>Diwan</td>\n",
              "      <td>200000</td>\n",
              "      <td>2014-06-11 09:00:00</td>\n",
              "      <td>Account</td>\n",
              "    </tr>\n",
              "    <tr>\n",
              "      <th>1</th>\n",
              "      <td>7</td>\n",
              "      <td>Satish</td>\n",
              "      <td>Kumar</td>\n",
              "      <td>75000</td>\n",
              "      <td>2014-01-20 09:00:00</td>\n",
              "      <td>Account</td>\n",
              "    </tr>\n",
              "  </tbody>\n",
              "</table>\n",
              "</div>"
            ],
            "text/plain": [
              "   WORKER_ID FIRST_NAME LAST_NAME  SALARY        JOINING_DATE DEPARTMENT\n",
              "0          6      Vipul     Diwan  200000 2014-06-11 09:00:00    Account\n",
              "1          7     Satish     Kumar   75000 2014-01-20 09:00:00    Account"
            ]
          },
          "execution_count": 26,
          "metadata": {},
          "output_type": "execute_result"
        }
      ],
      "source": [
        "Ans13 = pd.read_sql(\"Select * from Worker where FIRST_NAME in ('Vipul' , 'Satish');\", con=mydb)\n",
        "Ans13"
      ]
    },
    {
      "cell_type": "code",
      "execution_count": null,
      "id": "38c84a99",
      "metadata": {
        "id": "38c84a99"
      },
      "outputs": [],
      "source": [
        ""
      ]
    },
    {
      "cell_type": "markdown",
      "id": "879bf43e",
      "metadata": {
        "id": "879bf43e"
      },
      "source": [
        "##### Q-14. Write an SQL query to print details of workers excluding first names, “Vipul” and “Satish” from Worker table."
      ]
    },
    {
      "cell_type": "code",
      "execution_count": null,
      "id": "9c17b2b0",
      "metadata": {
        "id": "9c17b2b0",
        "outputId": "f4c2be2b-8591-443c-c046-7defe2c5b2b6"
      },
      "outputs": [
        {
          "data": {
            "text/html": [
              "<div>\n",
              "<style scoped>\n",
              "    .dataframe tbody tr th:only-of-type {\n",
              "        vertical-align: middle;\n",
              "    }\n",
              "\n",
              "    .dataframe tbody tr th {\n",
              "        vertical-align: top;\n",
              "    }\n",
              "\n",
              "    .dataframe thead th {\n",
              "        text-align: right;\n",
              "    }\n",
              "</style>\n",
              "<table border=\"1\" class=\"dataframe\">\n",
              "  <thead>\n",
              "    <tr style=\"text-align: right;\">\n",
              "      <th></th>\n",
              "      <th>WORKER_ID</th>\n",
              "      <th>FIRST_NAME</th>\n",
              "      <th>LAST_NAME</th>\n",
              "      <th>SALARY</th>\n",
              "      <th>JOINING_DATE</th>\n",
              "      <th>DEPARTMENT</th>\n",
              "    </tr>\n",
              "  </thead>\n",
              "  <tbody>\n",
              "    <tr>\n",
              "      <th>0</th>\n",
              "      <td>1</td>\n",
              "      <td>Monika</td>\n",
              "      <td>Arora</td>\n",
              "      <td>100000</td>\n",
              "      <td>2014-02-20 09:00:00</td>\n",
              "      <td>HR</td>\n",
              "    </tr>\n",
              "    <tr>\n",
              "      <th>1</th>\n",
              "      <td>2</td>\n",
              "      <td>Niharika</td>\n",
              "      <td>Verma</td>\n",
              "      <td>80000</td>\n",
              "      <td>2014-06-11 09:00:00</td>\n",
              "      <td>Admin</td>\n",
              "    </tr>\n",
              "    <tr>\n",
              "      <th>2</th>\n",
              "      <td>3</td>\n",
              "      <td>Vishal</td>\n",
              "      <td>Singhal</td>\n",
              "      <td>300000</td>\n",
              "      <td>2014-02-20 09:00:00</td>\n",
              "      <td>HR</td>\n",
              "    </tr>\n",
              "    <tr>\n",
              "      <th>3</th>\n",
              "      <td>4</td>\n",
              "      <td>Amitabh</td>\n",
              "      <td>Singh</td>\n",
              "      <td>500000</td>\n",
              "      <td>2014-02-20 09:00:00</td>\n",
              "      <td>Admin</td>\n",
              "    </tr>\n",
              "    <tr>\n",
              "      <th>4</th>\n",
              "      <td>5</td>\n",
              "      <td>Vivek</td>\n",
              "      <td>Bhati</td>\n",
              "      <td>500000</td>\n",
              "      <td>2014-06-11 09:00:00</td>\n",
              "      <td>Admin</td>\n",
              "    </tr>\n",
              "    <tr>\n",
              "      <th>5</th>\n",
              "      <td>8</td>\n",
              "      <td>Geetika</td>\n",
              "      <td>Chauhan</td>\n",
              "      <td>90000</td>\n",
              "      <td>2014-04-11 09:00:00</td>\n",
              "      <td>Admin</td>\n",
              "    </tr>\n",
              "  </tbody>\n",
              "</table>\n",
              "</div>"
            ],
            "text/plain": [
              "   WORKER_ID FIRST_NAME LAST_NAME  SALARY        JOINING_DATE DEPARTMENT\n",
              "0          1     Monika     Arora  100000 2014-02-20 09:00:00         HR\n",
              "1          2   Niharika     Verma   80000 2014-06-11 09:00:00      Admin\n",
              "2          3     Vishal   Singhal  300000 2014-02-20 09:00:00         HR\n",
              "3          4    Amitabh     Singh  500000 2014-02-20 09:00:00      Admin\n",
              "4          5      Vivek     Bhati  500000 2014-06-11 09:00:00      Admin\n",
              "5          8    Geetika   Chauhan   90000 2014-04-11 09:00:00      Admin"
            ]
          },
          "execution_count": 27,
          "metadata": {},
          "output_type": "execute_result"
        }
      ],
      "source": [
        "Ans14 = pd.read_sql(\"Select * from Worker where FIRST_NAME not in ('Vipul' , 'Satish');\", con=mydb)\n",
        "Ans14"
      ]
    },
    {
      "cell_type": "code",
      "execution_count": null,
      "id": "cc631b20",
      "metadata": {
        "id": "cc631b20"
      },
      "outputs": [],
      "source": [
        ""
      ]
    },
    {
      "cell_type": "markdown",
      "id": "c86a3d93",
      "metadata": {
        "id": "c86a3d93"
      },
      "source": [
        "##### Q-15. Write an SQL query to print details of Workers with DEPARTMENT name as “Admin”."
      ]
    },
    {
      "cell_type": "code",
      "execution_count": null,
      "id": "3e2d1736",
      "metadata": {
        "id": "3e2d1736",
        "outputId": "175d663e-c381-45b4-9c50-beca15df9a30"
      },
      "outputs": [
        {
          "data": {
            "text/html": [
              "<div>\n",
              "<style scoped>\n",
              "    .dataframe tbody tr th:only-of-type {\n",
              "        vertical-align: middle;\n",
              "    }\n",
              "\n",
              "    .dataframe tbody tr th {\n",
              "        vertical-align: top;\n",
              "    }\n",
              "\n",
              "    .dataframe thead th {\n",
              "        text-align: right;\n",
              "    }\n",
              "</style>\n",
              "<table border=\"1\" class=\"dataframe\">\n",
              "  <thead>\n",
              "    <tr style=\"text-align: right;\">\n",
              "      <th></th>\n",
              "      <th>WORKER_ID</th>\n",
              "      <th>FIRST_NAME</th>\n",
              "      <th>LAST_NAME</th>\n",
              "      <th>SALARY</th>\n",
              "      <th>JOINING_DATE</th>\n",
              "      <th>DEPARTMENT</th>\n",
              "    </tr>\n",
              "  </thead>\n",
              "  <tbody>\n",
              "    <tr>\n",
              "      <th>0</th>\n",
              "      <td>2</td>\n",
              "      <td>Niharika</td>\n",
              "      <td>Verma</td>\n",
              "      <td>80000</td>\n",
              "      <td>2014-06-11 09:00:00</td>\n",
              "      <td>Admin</td>\n",
              "    </tr>\n",
              "    <tr>\n",
              "      <th>1</th>\n",
              "      <td>4</td>\n",
              "      <td>Amitabh</td>\n",
              "      <td>Singh</td>\n",
              "      <td>500000</td>\n",
              "      <td>2014-02-20 09:00:00</td>\n",
              "      <td>Admin</td>\n",
              "    </tr>\n",
              "    <tr>\n",
              "      <th>2</th>\n",
              "      <td>5</td>\n",
              "      <td>Vivek</td>\n",
              "      <td>Bhati</td>\n",
              "      <td>500000</td>\n",
              "      <td>2014-06-11 09:00:00</td>\n",
              "      <td>Admin</td>\n",
              "    </tr>\n",
              "    <tr>\n",
              "      <th>3</th>\n",
              "      <td>8</td>\n",
              "      <td>Geetika</td>\n",
              "      <td>Chauhan</td>\n",
              "      <td>90000</td>\n",
              "      <td>2014-04-11 09:00:00</td>\n",
              "      <td>Admin</td>\n",
              "    </tr>\n",
              "  </tbody>\n",
              "</table>\n",
              "</div>"
            ],
            "text/plain": [
              "   WORKER_ID FIRST_NAME LAST_NAME  SALARY        JOINING_DATE DEPARTMENT\n",
              "0          2   Niharika     Verma   80000 2014-06-11 09:00:00      Admin\n",
              "1          4    Amitabh     Singh  500000 2014-02-20 09:00:00      Admin\n",
              "2          5      Vivek     Bhati  500000 2014-06-11 09:00:00      Admin\n",
              "3          8    Geetika   Chauhan   90000 2014-04-11 09:00:00      Admin"
            ]
          },
          "execution_count": 28,
          "metadata": {},
          "output_type": "execute_result"
        }
      ],
      "source": [
        "Ans15 = pd.read_sql(\"Select * from Worker where DEPARTMENT = 'ADMIN';\", con=mydb)\n",
        "Ans15"
      ]
    },
    {
      "cell_type": "code",
      "execution_count": null,
      "id": "816f4ae8",
      "metadata": {
        "id": "816f4ae8"
      },
      "outputs": [],
      "source": [
        ""
      ]
    },
    {
      "cell_type": "markdown",
      "id": "4bb9ddb3",
      "metadata": {
        "id": "4bb9ddb3"
      },
      "source": [
        "##### Q-16. Write an SQL query to print details of the Workers whose FIRST_NAME contains ‘a’."
      ]
    },
    {
      "cell_type": "code",
      "execution_count": null,
      "id": "dad9c1ce",
      "metadata": {
        "id": "dad9c1ce",
        "outputId": "1617c4fc-4f2c-4ba8-e65b-17705a0f3121"
      },
      "outputs": [
        {
          "data": {
            "text/html": [
              "<div>\n",
              "<style scoped>\n",
              "    .dataframe tbody tr th:only-of-type {\n",
              "        vertical-align: middle;\n",
              "    }\n",
              "\n",
              "    .dataframe tbody tr th {\n",
              "        vertical-align: top;\n",
              "    }\n",
              "\n",
              "    .dataframe thead th {\n",
              "        text-align: right;\n",
              "    }\n",
              "</style>\n",
              "<table border=\"1\" class=\"dataframe\">\n",
              "  <thead>\n",
              "    <tr style=\"text-align: right;\">\n",
              "      <th></th>\n",
              "      <th>WORKER_ID</th>\n",
              "      <th>FIRST_NAME</th>\n",
              "      <th>LAST_NAME</th>\n",
              "      <th>SALARY</th>\n",
              "      <th>JOINING_DATE</th>\n",
              "      <th>DEPARTMENT</th>\n",
              "    </tr>\n",
              "  </thead>\n",
              "  <tbody>\n",
              "    <tr>\n",
              "      <th>0</th>\n",
              "      <td>1</td>\n",
              "      <td>Monika</td>\n",
              "      <td>Arora</td>\n",
              "      <td>100000</td>\n",
              "      <td>2014-02-20 09:00:00</td>\n",
              "      <td>HR</td>\n",
              "    </tr>\n",
              "    <tr>\n",
              "      <th>1</th>\n",
              "      <td>2</td>\n",
              "      <td>Niharika</td>\n",
              "      <td>Verma</td>\n",
              "      <td>80000</td>\n",
              "      <td>2014-06-11 09:00:00</td>\n",
              "      <td>Admin</td>\n",
              "    </tr>\n",
              "    <tr>\n",
              "      <th>2</th>\n",
              "      <td>3</td>\n",
              "      <td>Vishal</td>\n",
              "      <td>Singhal</td>\n",
              "      <td>300000</td>\n",
              "      <td>2014-02-20 09:00:00</td>\n",
              "      <td>HR</td>\n",
              "    </tr>\n",
              "    <tr>\n",
              "      <th>3</th>\n",
              "      <td>4</td>\n",
              "      <td>Amitabh</td>\n",
              "      <td>Singh</td>\n",
              "      <td>500000</td>\n",
              "      <td>2014-02-20 09:00:00</td>\n",
              "      <td>Admin</td>\n",
              "    </tr>\n",
              "    <tr>\n",
              "      <th>4</th>\n",
              "      <td>7</td>\n",
              "      <td>Satish</td>\n",
              "      <td>Kumar</td>\n",
              "      <td>75000</td>\n",
              "      <td>2014-01-20 09:00:00</td>\n",
              "      <td>Account</td>\n",
              "    </tr>\n",
              "    <tr>\n",
              "      <th>5</th>\n",
              "      <td>8</td>\n",
              "      <td>Geetika</td>\n",
              "      <td>Chauhan</td>\n",
              "      <td>90000</td>\n",
              "      <td>2014-04-11 09:00:00</td>\n",
              "      <td>Admin</td>\n",
              "    </tr>\n",
              "  </tbody>\n",
              "</table>\n",
              "</div>"
            ],
            "text/plain": [
              "   WORKER_ID FIRST_NAME LAST_NAME  SALARY        JOINING_DATE DEPARTMENT\n",
              "0          1     Monika     Arora  100000 2014-02-20 09:00:00         HR\n",
              "1          2   Niharika     Verma   80000 2014-06-11 09:00:00      Admin\n",
              "2          3     Vishal   Singhal  300000 2014-02-20 09:00:00         HR\n",
              "3          4    Amitabh     Singh  500000 2014-02-20 09:00:00      Admin\n",
              "4          7     Satish     Kumar   75000 2014-01-20 09:00:00    Account\n",
              "5          8    Geetika   Chauhan   90000 2014-04-11 09:00:00      Admin"
            ]
          },
          "execution_count": 29,
          "metadata": {},
          "output_type": "execute_result"
        }
      ],
      "source": [
        "Ans16 = pd.read_sql(\"Select * from Worker where FIRST_NAME like '%a%';\", con=mydb)\n",
        "Ans16\n",
        "\n",
        "#'%a%' means position 'a' can be anywhere in the word"
      ]
    },
    {
      "cell_type": "code",
      "execution_count": null,
      "id": "20a51eb7",
      "metadata": {
        "id": "20a51eb7"
      },
      "outputs": [],
      "source": [
        ""
      ]
    },
    {
      "cell_type": "markdown",
      "id": "0698865b",
      "metadata": {
        "id": "0698865b"
      },
      "source": [
        "##### Q-17. Write an SQL query to print details of the Workers whose FIRST_NAME ends with ‘a’."
      ]
    },
    {
      "cell_type": "code",
      "execution_count": null,
      "id": "684839fd",
      "metadata": {
        "id": "684839fd",
        "outputId": "c92ab16f-1565-41ff-9c9d-5431de8d8933"
      },
      "outputs": [
        {
          "data": {
            "text/html": [
              "<div>\n",
              "<style scoped>\n",
              "    .dataframe tbody tr th:only-of-type {\n",
              "        vertical-align: middle;\n",
              "    }\n",
              "\n",
              "    .dataframe tbody tr th {\n",
              "        vertical-align: top;\n",
              "    }\n",
              "\n",
              "    .dataframe thead th {\n",
              "        text-align: right;\n",
              "    }\n",
              "</style>\n",
              "<table border=\"1\" class=\"dataframe\">\n",
              "  <thead>\n",
              "    <tr style=\"text-align: right;\">\n",
              "      <th></th>\n",
              "      <th>WORKER_ID</th>\n",
              "      <th>FIRST_NAME</th>\n",
              "      <th>LAST_NAME</th>\n",
              "      <th>SALARY</th>\n",
              "      <th>JOINING_DATE</th>\n",
              "      <th>DEPARTMENT</th>\n",
              "    </tr>\n",
              "  </thead>\n",
              "  <tbody>\n",
              "    <tr>\n",
              "      <th>0</th>\n",
              "      <td>1</td>\n",
              "      <td>Monika</td>\n",
              "      <td>Arora</td>\n",
              "      <td>100000</td>\n",
              "      <td>2014-02-20 09:00:00</td>\n",
              "      <td>HR</td>\n",
              "    </tr>\n",
              "    <tr>\n",
              "      <th>1</th>\n",
              "      <td>2</td>\n",
              "      <td>Niharika</td>\n",
              "      <td>Verma</td>\n",
              "      <td>80000</td>\n",
              "      <td>2014-06-11 09:00:00</td>\n",
              "      <td>Admin</td>\n",
              "    </tr>\n",
              "    <tr>\n",
              "      <th>2</th>\n",
              "      <td>8</td>\n",
              "      <td>Geetika</td>\n",
              "      <td>Chauhan</td>\n",
              "      <td>90000</td>\n",
              "      <td>2014-04-11 09:00:00</td>\n",
              "      <td>Admin</td>\n",
              "    </tr>\n",
              "  </tbody>\n",
              "</table>\n",
              "</div>"
            ],
            "text/plain": [
              "   WORKER_ID FIRST_NAME LAST_NAME  SALARY        JOINING_DATE DEPARTMENT\n",
              "0          1     Monika     Arora  100000 2014-02-20 09:00:00         HR\n",
              "1          2   Niharika     Verma   80000 2014-06-11 09:00:00      Admin\n",
              "2          8    Geetika   Chauhan   90000 2014-04-11 09:00:00      Admin"
            ]
          },
          "execution_count": 30,
          "metadata": {},
          "output_type": "execute_result"
        }
      ],
      "source": [
        "Ans17 = pd.read_sql(\"Select * from Worker where FIRST_NAME like '%a';\", con=mydb)\n",
        "Ans17\n",
        "\n",
        "#'%a' means charaacters before the 'a' which comes last"
      ]
    },
    {
      "cell_type": "code",
      "execution_count": null,
      "id": "62d684e7",
      "metadata": {
        "id": "62d684e7"
      },
      "outputs": [],
      "source": [
        ""
      ]
    },
    {
      "cell_type": "markdown",
      "id": "b7a20662",
      "metadata": {
        "id": "b7a20662"
      },
      "source": [
        "##### Q-18. Write an SQL query to print details of the Workers whose FIRST_NAME ends with ‘h’ and contains six alphabets."
      ]
    },
    {
      "cell_type": "code",
      "execution_count": null,
      "id": "4dd18117",
      "metadata": {
        "id": "4dd18117",
        "outputId": "6637c679-c347-44b4-f778-62513950a23f"
      },
      "outputs": [
        {
          "data": {
            "text/html": [
              "<div>\n",
              "<style scoped>\n",
              "    .dataframe tbody tr th:only-of-type {\n",
              "        vertical-align: middle;\n",
              "    }\n",
              "\n",
              "    .dataframe tbody tr th {\n",
              "        vertical-align: top;\n",
              "    }\n",
              "\n",
              "    .dataframe thead th {\n",
              "        text-align: right;\n",
              "    }\n",
              "</style>\n",
              "<table border=\"1\" class=\"dataframe\">\n",
              "  <thead>\n",
              "    <tr style=\"text-align: right;\">\n",
              "      <th></th>\n",
              "      <th>WORKER_ID</th>\n",
              "      <th>FIRST_NAME</th>\n",
              "      <th>LAST_NAME</th>\n",
              "      <th>SALARY</th>\n",
              "      <th>JOINING_DATE</th>\n",
              "      <th>DEPARTMENT</th>\n",
              "    </tr>\n",
              "  </thead>\n",
              "  <tbody>\n",
              "    <tr>\n",
              "      <th>0</th>\n",
              "      <td>7</td>\n",
              "      <td>Satish</td>\n",
              "      <td>Kumar</td>\n",
              "      <td>75000</td>\n",
              "      <td>2014-01-20 09:00:00</td>\n",
              "      <td>Account</td>\n",
              "    </tr>\n",
              "  </tbody>\n",
              "</table>\n",
              "</div>"
            ],
            "text/plain": [
              "   WORKER_ID FIRST_NAME LAST_NAME  SALARY        JOINING_DATE DEPARTMENT\n",
              "0          7     Satish     Kumar   75000 2014-01-20 09:00:00    Account"
            ]
          },
          "execution_count": 31,
          "metadata": {},
          "output_type": "execute_result"
        }
      ],
      "source": [
        "Ans18 = pd.read_sql(\"Select * from Worker where FIRST_NAME like '_____h';\", con=mydb)\n",
        "Ans18\n",
        "#five underscores and an 'h' to complete six characters/alphabets"
      ]
    },
    {
      "cell_type": "code",
      "execution_count": null,
      "id": "12505306",
      "metadata": {
        "id": "12505306"
      },
      "outputs": [],
      "source": [
        ""
      ]
    },
    {
      "cell_type": "markdown",
      "id": "f9573b65",
      "metadata": {
        "id": "f9573b65"
      },
      "source": [
        "##### Q-19. Write an SQL query to print details of the Workers whose SALARY lies between 100000 and 500000."
      ]
    },
    {
      "cell_type": "code",
      "execution_count": null,
      "id": "cedb7c64",
      "metadata": {
        "id": "cedb7c64",
        "outputId": "9979df9c-3b06-4f3b-dff4-68d154341294"
      },
      "outputs": [
        {
          "data": {
            "text/html": [
              "<div>\n",
              "<style scoped>\n",
              "    .dataframe tbody tr th:only-of-type {\n",
              "        vertical-align: middle;\n",
              "    }\n",
              "\n",
              "    .dataframe tbody tr th {\n",
              "        vertical-align: top;\n",
              "    }\n",
              "\n",
              "    .dataframe thead th {\n",
              "        text-align: right;\n",
              "    }\n",
              "</style>\n",
              "<table border=\"1\" class=\"dataframe\">\n",
              "  <thead>\n",
              "    <tr style=\"text-align: right;\">\n",
              "      <th></th>\n",
              "      <th>WORKER_ID</th>\n",
              "      <th>FIRST_NAME</th>\n",
              "      <th>LAST_NAME</th>\n",
              "      <th>SALARY</th>\n",
              "      <th>JOINING_DATE</th>\n",
              "      <th>DEPARTMENT</th>\n",
              "    </tr>\n",
              "  </thead>\n",
              "  <tbody>\n",
              "    <tr>\n",
              "      <th>0</th>\n",
              "      <td>1</td>\n",
              "      <td>Monika</td>\n",
              "      <td>Arora</td>\n",
              "      <td>100000</td>\n",
              "      <td>2014-02-20 09:00:00</td>\n",
              "      <td>HR</td>\n",
              "    </tr>\n",
              "    <tr>\n",
              "      <th>1</th>\n",
              "      <td>3</td>\n",
              "      <td>Vishal</td>\n",
              "      <td>Singhal</td>\n",
              "      <td>300000</td>\n",
              "      <td>2014-02-20 09:00:00</td>\n",
              "      <td>HR</td>\n",
              "    </tr>\n",
              "    <tr>\n",
              "      <th>2</th>\n",
              "      <td>4</td>\n",
              "      <td>Amitabh</td>\n",
              "      <td>Singh</td>\n",
              "      <td>500000</td>\n",
              "      <td>2014-02-20 09:00:00</td>\n",
              "      <td>Admin</td>\n",
              "    </tr>\n",
              "    <tr>\n",
              "      <th>3</th>\n",
              "      <td>5</td>\n",
              "      <td>Vivek</td>\n",
              "      <td>Bhati</td>\n",
              "      <td>500000</td>\n",
              "      <td>2014-06-11 09:00:00</td>\n",
              "      <td>Admin</td>\n",
              "    </tr>\n",
              "    <tr>\n",
              "      <th>4</th>\n",
              "      <td>6</td>\n",
              "      <td>Vipul</td>\n",
              "      <td>Diwan</td>\n",
              "      <td>200000</td>\n",
              "      <td>2014-06-11 09:00:00</td>\n",
              "      <td>Account</td>\n",
              "    </tr>\n",
              "  </tbody>\n",
              "</table>\n",
              "</div>"
            ],
            "text/plain": [
              "   WORKER_ID FIRST_NAME LAST_NAME  SALARY        JOINING_DATE DEPARTMENT\n",
              "0          1     Monika     Arora  100000 2014-02-20 09:00:00         HR\n",
              "1          3     Vishal   Singhal  300000 2014-02-20 09:00:00         HR\n",
              "2          4    Amitabh     Singh  500000 2014-02-20 09:00:00      Admin\n",
              "3          5      Vivek     Bhati  500000 2014-06-11 09:00:00      Admin\n",
              "4          6      Vipul     Diwan  200000 2014-06-11 09:00:00    Account"
            ]
          },
          "execution_count": 32,
          "metadata": {},
          "output_type": "execute_result"
        }
      ],
      "source": [
        "Ans19 = pd.read_sql(\"Select * from Worker where SALARY between 100000 and 500000;\", con=mydb)\n",
        "Ans19"
      ]
    },
    {
      "cell_type": "code",
      "execution_count": null,
      "id": "61f281ec",
      "metadata": {
        "id": "61f281ec"
      },
      "outputs": [],
      "source": [
        ""
      ]
    },
    {
      "cell_type": "markdown",
      "id": "0c38cd84",
      "metadata": {
        "id": "0c38cd84"
      },
      "source": [
        "##### Q-20. Write an SQL query to print details of the Workers who have joined in Feb’2014."
      ]
    },
    {
      "cell_type": "code",
      "execution_count": null,
      "id": "f242643f",
      "metadata": {
        "id": "f242643f",
        "outputId": "a896b3ea-5400-414e-b346-cea57250d22e"
      },
      "outputs": [
        {
          "data": {
            "text/html": [
              "<div>\n",
              "<style scoped>\n",
              "    .dataframe tbody tr th:only-of-type {\n",
              "        vertical-align: middle;\n",
              "    }\n",
              "\n",
              "    .dataframe tbody tr th {\n",
              "        vertical-align: top;\n",
              "    }\n",
              "\n",
              "    .dataframe thead th {\n",
              "        text-align: right;\n",
              "    }\n",
              "</style>\n",
              "<table border=\"1\" class=\"dataframe\">\n",
              "  <thead>\n",
              "    <tr style=\"text-align: right;\">\n",
              "      <th></th>\n",
              "      <th>WORKER_ID</th>\n",
              "      <th>FIRST_NAME</th>\n",
              "      <th>LAST_NAME</th>\n",
              "      <th>SALARY</th>\n",
              "      <th>JOINING_DATE</th>\n",
              "      <th>DEPARTMENT</th>\n",
              "    </tr>\n",
              "  </thead>\n",
              "  <tbody>\n",
              "    <tr>\n",
              "      <th>0</th>\n",
              "      <td>1</td>\n",
              "      <td>Monika</td>\n",
              "      <td>Arora</td>\n",
              "      <td>100000</td>\n",
              "      <td>2014-02-20 09:00:00</td>\n",
              "      <td>HR</td>\n",
              "    </tr>\n",
              "    <tr>\n",
              "      <th>1</th>\n",
              "      <td>3</td>\n",
              "      <td>Vishal</td>\n",
              "      <td>Singhal</td>\n",
              "      <td>300000</td>\n",
              "      <td>2014-02-20 09:00:00</td>\n",
              "      <td>HR</td>\n",
              "    </tr>\n",
              "    <tr>\n",
              "      <th>2</th>\n",
              "      <td>4</td>\n",
              "      <td>Amitabh</td>\n",
              "      <td>Singh</td>\n",
              "      <td>500000</td>\n",
              "      <td>2014-02-20 09:00:00</td>\n",
              "      <td>Admin</td>\n",
              "    </tr>\n",
              "  </tbody>\n",
              "</table>\n",
              "</div>"
            ],
            "text/plain": [
              "   WORKER_ID FIRST_NAME LAST_NAME  SALARY        JOINING_DATE DEPARTMENT\n",
              "0          1     Monika     Arora  100000 2014-02-20 09:00:00         HR\n",
              "1          3     Vishal   Singhal  300000 2014-02-20 09:00:00         HR\n",
              "2          4    Amitabh     Singh  500000 2014-02-20 09:00:00      Admin"
            ]
          },
          "execution_count": 33,
          "metadata": {},
          "output_type": "execute_result"
        }
      ],
      "source": [
        "Ans20 = pd.read_sql(\"Select * from Worker where JOINING_DATE like '2014-02%';\", con=mydb)\n",
        "Ans20"
      ]
    },
    {
      "cell_type": "code",
      "execution_count": null,
      "id": "7a27cc3e",
      "metadata": {
        "id": "7a27cc3e",
        "outputId": "939257cd-2e21-4002-82b6-c80766aad3e6"
      },
      "outputs": [
        {
          "data": {
            "text/html": [
              "<div>\n",
              "<style scoped>\n",
              "    .dataframe tbody tr th:only-of-type {\n",
              "        vertical-align: middle;\n",
              "    }\n",
              "\n",
              "    .dataframe tbody tr th {\n",
              "        vertical-align: top;\n",
              "    }\n",
              "\n",
              "    .dataframe thead th {\n",
              "        text-align: right;\n",
              "    }\n",
              "</style>\n",
              "<table border=\"1\" class=\"dataframe\">\n",
              "  <thead>\n",
              "    <tr style=\"text-align: right;\">\n",
              "      <th></th>\n",
              "      <th>WORKER_ID</th>\n",
              "      <th>FIRST_NAME</th>\n",
              "      <th>LAST_NAME</th>\n",
              "      <th>SALARY</th>\n",
              "      <th>JOINING_DATE</th>\n",
              "      <th>DEPARTMENT</th>\n",
              "    </tr>\n",
              "  </thead>\n",
              "  <tbody>\n",
              "    <tr>\n",
              "      <th>0</th>\n",
              "      <td>1</td>\n",
              "      <td>Monika</td>\n",
              "      <td>Arora</td>\n",
              "      <td>100000</td>\n",
              "      <td>2014-02-20 09:00:00</td>\n",
              "      <td>HR</td>\n",
              "    </tr>\n",
              "    <tr>\n",
              "      <th>1</th>\n",
              "      <td>3</td>\n",
              "      <td>Vishal</td>\n",
              "      <td>Singhal</td>\n",
              "      <td>300000</td>\n",
              "      <td>2014-02-20 09:00:00</td>\n",
              "      <td>HR</td>\n",
              "    </tr>\n",
              "    <tr>\n",
              "      <th>2</th>\n",
              "      <td>4</td>\n",
              "      <td>Amitabh</td>\n",
              "      <td>Singh</td>\n",
              "      <td>500000</td>\n",
              "      <td>2014-02-20 09:00:00</td>\n",
              "      <td>Admin</td>\n",
              "    </tr>\n",
              "  </tbody>\n",
              "</table>\n",
              "</div>"
            ],
            "text/plain": [
              "   WORKER_ID FIRST_NAME LAST_NAME  SALARY        JOINING_DATE DEPARTMENT\n",
              "0          1     Monika     Arora  100000 2014-02-20 09:00:00         HR\n",
              "1          3     Vishal   Singhal  300000 2014-02-20 09:00:00         HR\n",
              "2          4    Amitabh     Singh  500000 2014-02-20 09:00:00      Admin"
            ]
          },
          "execution_count": 34,
          "metadata": {},
          "output_type": "execute_result"
        }
      ],
      "source": [
        "# Alternatively, we can achieve the same result by running the query below. \n",
        "a = pd.read_sql(\"Select * from Worker where year(JOINING_DATE) = 2014 and month(JOINING_DATE) = 2;\", con=mydb)\n",
        "a"
      ]
    },
    {
      "cell_type": "code",
      "execution_count": null,
      "id": "7a07c035",
      "metadata": {
        "id": "7a07c035"
      },
      "outputs": [],
      "source": [
        ""
      ]
    },
    {
      "cell_type": "markdown",
      "id": "8d1de26c",
      "metadata": {
        "id": "8d1de26c"
      },
      "source": [
        "##### Q-21. Write an SQL query to fetch the count of employees working in the department ‘Admin’."
      ]
    },
    {
      "cell_type": "code",
      "execution_count": null,
      "id": "2584a6e3",
      "metadata": {
        "id": "2584a6e3",
        "outputId": "3c76bad3-9712-4e5b-c119-2fdcb12fb9a9"
      },
      "outputs": [
        {
          "data": {
            "text/html": [
              "<div>\n",
              "<style scoped>\n",
              "    .dataframe tbody tr th:only-of-type {\n",
              "        vertical-align: middle;\n",
              "    }\n",
              "\n",
              "    .dataframe tbody tr th {\n",
              "        vertical-align: top;\n",
              "    }\n",
              "\n",
              "    .dataframe thead th {\n",
              "        text-align: right;\n",
              "    }\n",
              "</style>\n",
              "<table border=\"1\" class=\"dataframe\">\n",
              "  <thead>\n",
              "    <tr style=\"text-align: right;\">\n",
              "      <th></th>\n",
              "      <th>count(*)</th>\n",
              "    </tr>\n",
              "  </thead>\n",
              "  <tbody>\n",
              "    <tr>\n",
              "      <th>0</th>\n",
              "      <td>4</td>\n",
              "    </tr>\n",
              "  </tbody>\n",
              "</table>\n",
              "</div>"
            ],
            "text/plain": [
              "   count(*)\n",
              "0         4"
            ]
          },
          "execution_count": 35,
          "metadata": {},
          "output_type": "execute_result"
        }
      ],
      "source": [
        "Ans21 = pd.read_sql(\"Select count(*) from Worker where DEPARTMENT = 'Admin';\", con=mydb)\n",
        "Ans21"
      ]
    },
    {
      "cell_type": "code",
      "execution_count": null,
      "id": "03c24961",
      "metadata": {
        "id": "03c24961"
      },
      "outputs": [],
      "source": [
        ""
      ]
    },
    {
      "cell_type": "markdown",
      "id": "e18c9320",
      "metadata": {
        "id": "e18c9320"
      },
      "source": [
        "##### Q-22. Write an SQL query to fetch worker names with salaries >= 50000 and <= 100000."
      ]
    },
    {
      "cell_type": "code",
      "execution_count": null,
      "id": "89df890e",
      "metadata": {
        "id": "89df890e",
        "outputId": "c8f4713d-2647-4c1f-fae4-7f2bb66c17d7"
      },
      "outputs": [
        {
          "data": {
            "text/html": [
              "<div>\n",
              "<style scoped>\n",
              "    .dataframe tbody tr th:only-of-type {\n",
              "        vertical-align: middle;\n",
              "    }\n",
              "\n",
              "    .dataframe tbody tr th {\n",
              "        vertical-align: top;\n",
              "    }\n",
              "\n",
              "    .dataframe thead th {\n",
              "        text-align: right;\n",
              "    }\n",
              "</style>\n",
              "<table border=\"1\" class=\"dataframe\">\n",
              "  <thead>\n",
              "    <tr style=\"text-align: right;\">\n",
              "      <th></th>\n",
              "      <th>worker_names</th>\n",
              "      <th>SALARY</th>\n",
              "    </tr>\n",
              "  </thead>\n",
              "  <tbody>\n",
              "    <tr>\n",
              "      <th>0</th>\n",
              "      <td>Monika Arora</td>\n",
              "      <td>100000</td>\n",
              "    </tr>\n",
              "    <tr>\n",
              "      <th>1</th>\n",
              "      <td>Niharika Verma</td>\n",
              "      <td>80000</td>\n",
              "    </tr>\n",
              "    <tr>\n",
              "      <th>2</th>\n",
              "      <td>Satish Kumar</td>\n",
              "      <td>75000</td>\n",
              "    </tr>\n",
              "    <tr>\n",
              "      <th>3</th>\n",
              "      <td>Geetika Chauhan</td>\n",
              "      <td>90000</td>\n",
              "    </tr>\n",
              "  </tbody>\n",
              "</table>\n",
              "</div>"
            ],
            "text/plain": [
              "      worker_names  SALARY\n",
              "0     Monika Arora  100000\n",
              "1   Niharika Verma   80000\n",
              "2     Satish Kumar   75000\n",
              "3  Geetika Chauhan   90000"
            ]
          },
          "execution_count": 36,
          "metadata": {},
          "output_type": "execute_result"
        }
      ],
      "source": [
        "Ans22 = pd.read_sql(\"Select concat(FIRST_NAME, ' ', LAST_NAME) as worker_names, SALARY from worker where SALARY between 50000 and 100000;\", con=mydb)\n",
        "Ans22"
      ]
    },
    {
      "cell_type": "code",
      "execution_count": null,
      "id": "df9e1b04",
      "metadata": {
        "id": "df9e1b04",
        "outputId": "b03515d7-a0af-4827-e1a3-a857bc46f5cc"
      },
      "outputs": [
        {
          "data": {
            "text/html": [
              "<div>\n",
              "<style scoped>\n",
              "    .dataframe tbody tr th:only-of-type {\n",
              "        vertical-align: middle;\n",
              "    }\n",
              "\n",
              "    .dataframe tbody tr th {\n",
              "        vertical-align: top;\n",
              "    }\n",
              "\n",
              "    .dataframe thead th {\n",
              "        text-align: right;\n",
              "    }\n",
              "</style>\n",
              "<table border=\"1\" class=\"dataframe\">\n",
              "  <thead>\n",
              "    <tr style=\"text-align: right;\">\n",
              "      <th></th>\n",
              "      <th>Worker_Name</th>\n",
              "      <th>Salary</th>\n",
              "    </tr>\n",
              "  </thead>\n",
              "  <tbody>\n",
              "    <tr>\n",
              "      <th>0</th>\n",
              "      <td>Monika Arora</td>\n",
              "      <td>100000</td>\n",
              "    </tr>\n",
              "    <tr>\n",
              "      <th>1</th>\n",
              "      <td>Niharika Verma</td>\n",
              "      <td>80000</td>\n",
              "    </tr>\n",
              "    <tr>\n",
              "      <th>2</th>\n",
              "      <td>Satish Kumar</td>\n",
              "      <td>75000</td>\n",
              "    </tr>\n",
              "    <tr>\n",
              "      <th>3</th>\n",
              "      <td>Geetika Chauhan</td>\n",
              "      <td>90000</td>\n",
              "    </tr>\n",
              "  </tbody>\n",
              "</table>\n",
              "</div>"
            ],
            "text/plain": [
              "       Worker_Name  Salary\n",
              "0     Monika Arora  100000\n",
              "1   Niharika Verma   80000\n",
              "2     Satish Kumar   75000\n",
              "3  Geetika Chauhan   90000"
            ]
          },
          "execution_count": 37,
          "metadata": {},
          "output_type": "execute_result"
        }
      ],
      "source": [
        "#Alternatively, same result can be achieved by applying sub-query in the WHERE clause\n",
        "pd.read_sql(\"SELECT CONCAT(FIRST_NAME, ' ', LAST_NAME) As Worker_Name, Salary FROM worker WHERE WORKER_ID IN (SELECT WORKER_ID FROM worker WHERE Salary BETWEEN 50000 AND 100000);\", con=mydb)"
      ]
    },
    {
      "cell_type": "code",
      "execution_count": null,
      "id": "d16fd748",
      "metadata": {
        "id": "d16fd748"
      },
      "outputs": [],
      "source": [
        ""
      ]
    },
    {
      "cell_type": "markdown",
      "id": "fcd3aead",
      "metadata": {
        "id": "fcd3aead"
      },
      "source": [
        "##### Q-23. Write an SQL query to fetch the no. of workers for each department in the descending order."
      ]
    },
    {
      "cell_type": "code",
      "execution_count": null,
      "id": "22584454",
      "metadata": {
        "id": "22584454",
        "outputId": "6c38fa16-7d39-4cce-c384-0e1f10e3013b"
      },
      "outputs": [
        {
          "data": {
            "text/html": [
              "<div>\n",
              "<style scoped>\n",
              "    .dataframe tbody tr th:only-of-type {\n",
              "        vertical-align: middle;\n",
              "    }\n",
              "\n",
              "    .dataframe tbody tr th {\n",
              "        vertical-align: top;\n",
              "    }\n",
              "\n",
              "    .dataframe thead th {\n",
              "        text-align: right;\n",
              "    }\n",
              "</style>\n",
              "<table border=\"1\" class=\"dataframe\">\n",
              "  <thead>\n",
              "    <tr style=\"text-align: right;\">\n",
              "      <th></th>\n",
              "      <th>DEPARTMENT</th>\n",
              "      <th>no_of_workers</th>\n",
              "    </tr>\n",
              "  </thead>\n",
              "  <tbody>\n",
              "    <tr>\n",
              "      <th>0</th>\n",
              "      <td>Admin</td>\n",
              "      <td>4</td>\n",
              "    </tr>\n",
              "    <tr>\n",
              "      <th>1</th>\n",
              "      <td>HR</td>\n",
              "      <td>2</td>\n",
              "    </tr>\n",
              "    <tr>\n",
              "      <th>2</th>\n",
              "      <td>Account</td>\n",
              "      <td>2</td>\n",
              "    </tr>\n",
              "  </tbody>\n",
              "</table>\n",
              "</div>"
            ],
            "text/plain": [
              "  DEPARTMENT  no_of_workers\n",
              "0      Admin              4\n",
              "1         HR              2\n",
              "2    Account              2"
            ]
          },
          "execution_count": 38,
          "metadata": {},
          "output_type": "execute_result"
        }
      ],
      "source": [
        "Ans23 = pd.read_sql(\"Select DEPARTMENT, count(*) as no_of_workers from Worker group by DEPARTMENT order by no_of_workers desc ;\", con=mydb)\n",
        "Ans23"
      ]
    },
    {
      "cell_type": "code",
      "execution_count": null,
      "id": "12fa4d84",
      "metadata": {
        "id": "12fa4d84"
      },
      "outputs": [],
      "source": [
        ""
      ]
    },
    {
      "cell_type": "markdown",
      "id": "cb82fe10",
      "metadata": {
        "id": "cb82fe10"
      },
      "source": [
        "##### Q-24. Write an SQL query to print details of the Workers who are also Managers."
      ]
    },
    {
      "cell_type": "code",
      "execution_count": null,
      "id": "c6f1ad56",
      "metadata": {
        "id": "c6f1ad56",
        "outputId": "32b8e4a3-fc5e-4350-e7b3-c4746e839193"
      },
      "outputs": [
        {
          "data": {
            "text/html": [
              "<div>\n",
              "<style scoped>\n",
              "    .dataframe tbody tr th:only-of-type {\n",
              "        vertical-align: middle;\n",
              "    }\n",
              "\n",
              "    .dataframe tbody tr th {\n",
              "        vertical-align: top;\n",
              "    }\n",
              "\n",
              "    .dataframe thead th {\n",
              "        text-align: right;\n",
              "    }\n",
              "</style>\n",
              "<table border=\"1\" class=\"dataframe\">\n",
              "  <thead>\n",
              "    <tr style=\"text-align: right;\">\n",
              "      <th></th>\n",
              "      <th>NAME</th>\n",
              "      <th>WORKER_TITLE</th>\n",
              "    </tr>\n",
              "  </thead>\n",
              "  <tbody>\n",
              "    <tr>\n",
              "      <th>0</th>\n",
              "      <td>Monika Arora</td>\n",
              "      <td>Manager</td>\n",
              "    </tr>\n",
              "    <tr>\n",
              "      <th>1</th>\n",
              "      <td>Vivek Bhati</td>\n",
              "      <td>Manager</td>\n",
              "    </tr>\n",
              "  </tbody>\n",
              "</table>\n",
              "</div>"
            ],
            "text/plain": [
              "           NAME WORKER_TITLE\n",
              "0  Monika Arora      Manager\n",
              "1   Vivek Bhati      Manager"
            ]
          },
          "execution_count": 39,
          "metadata": {},
          "output_type": "execute_result"
        }
      ],
      "source": [
        "Ans24 = pd.read_sql(\"Select concat(worker.FIRST_NAME, ' ', worker.LAST_NAME) as NAME, title.WORKER_TITLE from worker inner join title on worker.WORKER_ID = title.WORKER_REF_ID where title.WORKER_TITLE = 'Manager';\", con=mydb)\n",
        "Ans24"
      ]
    },
    {
      "cell_type": "code",
      "execution_count": null,
      "id": "f195f04b",
      "metadata": {
        "id": "f195f04b",
        "outputId": "cb0b68b5-ba55-404e-912b-d81efdf1e213"
      },
      "outputs": [
        {
          "data": {
            "text/html": [
              "<div>\n",
              "<style scoped>\n",
              "    .dataframe tbody tr th:only-of-type {\n",
              "        vertical-align: middle;\n",
              "    }\n",
              "\n",
              "    .dataframe tbody tr th {\n",
              "        vertical-align: top;\n",
              "    }\n",
              "\n",
              "    .dataframe thead th {\n",
              "        text-align: right;\n",
              "    }\n",
              "</style>\n",
              "<table border=\"1\" class=\"dataframe\">\n",
              "  <thead>\n",
              "    <tr style=\"text-align: right;\">\n",
              "      <th></th>\n",
              "      <th>FIRST_NAME</th>\n",
              "      <th>WORKER_TITLE</th>\n",
              "    </tr>\n",
              "  </thead>\n",
              "  <tbody>\n",
              "    <tr>\n",
              "      <th>0</th>\n",
              "      <td>Monika</td>\n",
              "      <td>Manager</td>\n",
              "    </tr>\n",
              "    <tr>\n",
              "      <th>1</th>\n",
              "      <td>Vivek</td>\n",
              "      <td>Manager</td>\n",
              "    </tr>\n",
              "  </tbody>\n",
              "</table>\n",
              "</div>"
            ],
            "text/plain": [
              "  FIRST_NAME WORKER_TITLE\n",
              "0     Monika      Manager\n",
              "1      Vivek      Manager"
            ]
          },
          "execution_count": 40,
          "metadata": {},
          "output_type": "execute_result"
        }
      ],
      "source": [
        "#Alternatively...\n",
        "s = pd.read_sql(\"SELECT DISTINCT W.FIRST_NAME, T.WORKER_TITLE FROM Worker W INNER JOIN Title T ON W.WORKER_ID = T.WORKER_REF_ID AND T.WORKER_TITLE in ('Manager')\", con=mydb)\n",
        "s"
      ]
    },
    {
      "cell_type": "markdown",
      "id": "86f5df73",
      "metadata": {
        "id": "86f5df73"
      },
      "source": [
        "##### Q-25. Write an SQL query to fetch duplicate records having matching data in some fields of a table."
      ]
    },
    {
      "cell_type": "code",
      "execution_count": null,
      "id": "84dd8d24",
      "metadata": {
        "id": "84dd8d24",
        "outputId": "c482b02e-b0f4-4179-e7d5-e35075346a79"
      },
      "outputs": [
        {
          "data": {
            "text/html": [
              "<div>\n",
              "<style scoped>\n",
              "    .dataframe tbody tr th:only-of-type {\n",
              "        vertical-align: middle;\n",
              "    }\n",
              "\n",
              "    .dataframe tbody tr th {\n",
              "        vertical-align: top;\n",
              "    }\n",
              "\n",
              "    .dataframe thead th {\n",
              "        text-align: right;\n",
              "    }\n",
              "</style>\n",
              "<table border=\"1\" class=\"dataframe\">\n",
              "  <thead>\n",
              "    <tr style=\"text-align: right;\">\n",
              "      <th></th>\n",
              "      <th>WORKER_TITLE</th>\n",
              "      <th>AFFECTED_FROM</th>\n",
              "      <th>FREQUENCY</th>\n",
              "    </tr>\n",
              "  </thead>\n",
              "  <tbody>\n",
              "    <tr>\n",
              "      <th>0</th>\n",
              "      <td>Executive</td>\n",
              "      <td>2016-06-11</td>\n",
              "      <td>3</td>\n",
              "    </tr>\n",
              "    <tr>\n",
              "      <th>1</th>\n",
              "      <td>Lead</td>\n",
              "      <td>2016-06-11</td>\n",
              "      <td>2</td>\n",
              "    </tr>\n",
              "  </tbody>\n",
              "</table>\n",
              "</div>"
            ],
            "text/plain": [
              "  WORKER_TITLE AFFECTED_FROM  FREQUENCY\n",
              "0    Executive    2016-06-11          3\n",
              "1         Lead    2016-06-11          2"
            ]
          },
          "execution_count": 41,
          "metadata": {},
          "output_type": "execute_result"
        }
      ],
      "source": [
        "#Basically, the number of different WORKER_TITLE with similar AFFECTED_FROM date/data\n",
        "Ans25 = pd.read_sql(\"select WORKER_TITLE, AFFECTED_FROM, COUNT(*) as FREQUENCY from Title group by WORKER_TITLE, AFFECTED_FROM having count(*) > 1;\", con=mydb)\n",
        "Ans25"
      ]
    },
    {
      "cell_type": "code",
      "execution_count": null,
      "id": "33242ea6",
      "metadata": {
        "id": "33242ea6"
      },
      "outputs": [],
      "source": [
        ""
      ]
    },
    {
      "cell_type": "markdown",
      "id": "8da6c896",
      "metadata": {
        "id": "8da6c896"
      },
      "source": [
        "##### Q-26. Write an SQL query to show only odd rows from a table."
      ]
    },
    {
      "cell_type": "code",
      "execution_count": null,
      "id": "a43d9448",
      "metadata": {
        "id": "a43d9448",
        "outputId": "a44a02f4-5870-4f2a-c8dd-5f10fd21c3b2"
      },
      "outputs": [
        {
          "data": {
            "text/html": [
              "<div>\n",
              "<style scoped>\n",
              "    .dataframe tbody tr th:only-of-type {\n",
              "        vertical-align: middle;\n",
              "    }\n",
              "\n",
              "    .dataframe tbody tr th {\n",
              "        vertical-align: top;\n",
              "    }\n",
              "\n",
              "    .dataframe thead th {\n",
              "        text-align: right;\n",
              "    }\n",
              "</style>\n",
              "<table border=\"1\" class=\"dataframe\">\n",
              "  <thead>\n",
              "    <tr style=\"text-align: right;\">\n",
              "      <th></th>\n",
              "      <th>WORKER_REF_ID</th>\n",
              "      <th>WORKER_TITLE</th>\n",
              "      <th>AFFECTED_FROM</th>\n",
              "    </tr>\n",
              "  </thead>\n",
              "  <tbody>\n",
              "    <tr>\n",
              "      <th>0</th>\n",
              "      <td>1</td>\n",
              "      <td>Manager</td>\n",
              "      <td>2016-02-20</td>\n",
              "    </tr>\n",
              "    <tr>\n",
              "      <th>1</th>\n",
              "      <td>5</td>\n",
              "      <td>Manager</td>\n",
              "      <td>2016-06-11</td>\n",
              "    </tr>\n",
              "    <tr>\n",
              "      <th>2</th>\n",
              "      <td>7</td>\n",
              "      <td>Executive</td>\n",
              "      <td>2016-06-11</td>\n",
              "    </tr>\n",
              "    <tr>\n",
              "      <th>3</th>\n",
              "      <td>3</td>\n",
              "      <td>Lead</td>\n",
              "      <td>2016-06-11</td>\n",
              "    </tr>\n",
              "  </tbody>\n",
              "</table>\n",
              "</div>"
            ],
            "text/plain": [
              "   WORKER_REF_ID WORKER_TITLE AFFECTED_FROM\n",
              "0              1      Manager    2016-02-20\n",
              "1              5      Manager    2016-06-11\n",
              "2              7    Executive    2016-06-11\n",
              "3              3         Lead    2016-06-11"
            ]
          },
          "execution_count": 42,
          "metadata": {},
          "output_type": "execute_result"
        }
      ],
      "source": [
        "# 'MOD (WORKER_REF_ID, 2) <> 0' simply means worker_ref_id divided by 2 is not equal to zero. 'MOD' is used to retrieve the\n",
        "# remainder of division inside the bracket while <> means not equal to.\n",
        "\n",
        "Ans26 = pd.read_sql(\"select * from title where MOD (WORKER_REF_ID, 2) <> 0\", con=mydb)\n",
        "Ans26"
      ]
    },
    {
      "cell_type": "code",
      "execution_count": null,
      "id": "ffa146b6",
      "metadata": {
        "id": "ffa146b6"
      },
      "outputs": [],
      "source": [
        ""
      ]
    },
    {
      "cell_type": "markdown",
      "id": "aef8e14a",
      "metadata": {
        "id": "aef8e14a"
      },
      "source": [
        "##### Q-27. Write an SQL query to show only even rows from a table."
      ]
    },
    {
      "cell_type": "code",
      "execution_count": null,
      "id": "363a10f2",
      "metadata": {
        "id": "363a10f2",
        "outputId": "7dd78777-1780-4056-e001-c560b3177a41"
      },
      "outputs": [
        {
          "data": {
            "text/html": [
              "<div>\n",
              "<style scoped>\n",
              "    .dataframe tbody tr th:only-of-type {\n",
              "        vertical-align: middle;\n",
              "    }\n",
              "\n",
              "    .dataframe tbody tr th {\n",
              "        vertical-align: top;\n",
              "    }\n",
              "\n",
              "    .dataframe thead th {\n",
              "        text-align: right;\n",
              "    }\n",
              "</style>\n",
              "<table border=\"1\" class=\"dataframe\">\n",
              "  <thead>\n",
              "    <tr style=\"text-align: right;\">\n",
              "      <th></th>\n",
              "      <th>WORKER_REF_ID</th>\n",
              "      <th>WORKER_TITLE</th>\n",
              "      <th>AFFECTED_FROM</th>\n",
              "    </tr>\n",
              "  </thead>\n",
              "  <tbody>\n",
              "    <tr>\n",
              "      <th>0</th>\n",
              "      <td>2</td>\n",
              "      <td>Executive</td>\n",
              "      <td>2016-06-11</td>\n",
              "    </tr>\n",
              "    <tr>\n",
              "      <th>1</th>\n",
              "      <td>8</td>\n",
              "      <td>Executive</td>\n",
              "      <td>2016-06-11</td>\n",
              "    </tr>\n",
              "    <tr>\n",
              "      <th>2</th>\n",
              "      <td>4</td>\n",
              "      <td>Asst. Manager</td>\n",
              "      <td>2016-06-11</td>\n",
              "    </tr>\n",
              "    <tr>\n",
              "      <th>3</th>\n",
              "      <td>6</td>\n",
              "      <td>Lead</td>\n",
              "      <td>2016-06-11</td>\n",
              "    </tr>\n",
              "  </tbody>\n",
              "</table>\n",
              "</div>"
            ],
            "text/plain": [
              "   WORKER_REF_ID   WORKER_TITLE AFFECTED_FROM\n",
              "0              2      Executive    2016-06-11\n",
              "1              8      Executive    2016-06-11\n",
              "2              4  Asst. Manager    2016-06-11\n",
              "3              6           Lead    2016-06-11"
            ]
          },
          "execution_count": 43,
          "metadata": {},
          "output_type": "execute_result"
        }
      ],
      "source": [
        "Ans27 = pd.read_sql(\"select * from title where MOD (WORKER_REF_ID, 2) = 0\", con=mydb)\n",
        "Ans27"
      ]
    },
    {
      "cell_type": "code",
      "execution_count": null,
      "id": "26115aac",
      "metadata": {
        "id": "26115aac"
      },
      "outputs": [],
      "source": [
        ""
      ]
    },
    {
      "cell_type": "markdown",
      "id": "0394ace0",
      "metadata": {
        "id": "0394ace0"
      },
      "source": [
        "##### Q-28. Write an SQL query to clone a new table from another table."
      ]
    },
    {
      "cell_type": "code",
      "execution_count": null,
      "id": "2716cbc5",
      "metadata": {
        "id": "2716cbc5"
      },
      "outputs": [],
      "source": [
        "# I first need to declare the clone variable name before performing this task. "
      ]
    },
    {
      "cell_type": "code",
      "execution_count": null,
      "id": "2b6cc402",
      "metadata": {
        "id": "2b6cc402"
      },
      "outputs": [],
      "source": [
        ""
      ]
    },
    {
      "cell_type": "markdown",
      "id": "905587c2",
      "metadata": {
        "id": "905587c2"
      },
      "source": [
        "##### Q-29. Write an SQL query to fetch intersecting records of two tables."
      ]
    },
    {
      "cell_type": "code",
      "execution_count": null,
      "id": "1cdb01fb",
      "metadata": {
        "id": "1cdb01fb"
      },
      "outputs": [],
      "source": [
        ""
      ]
    },
    {
      "cell_type": "markdown",
      "id": "82426fd5",
      "metadata": {
        "id": "82426fd5"
      },
      "source": [
        "##### Q-30. Write an SQL query to show records from one table that another table does not have."
      ]
    },
    {
      "cell_type": "code",
      "execution_count": null,
      "id": "be0541ff",
      "metadata": {
        "id": "be0541ff"
      },
      "outputs": [],
      "source": [
        "Ans30 = pd.read_sql(\"(Select * from worker) MINUS (select * from title);\", con=mydb)\n",
        "Ans30\n",
        "\n",
        "# The above query won't run because to use MINUS function, the tables must have the same \n",
        "# number of columns and the data types must match."
      ]
    },
    {
      "cell_type": "code",
      "execution_count": null,
      "id": "80373433",
      "metadata": {
        "id": "80373433"
      },
      "outputs": [],
      "source": [
        ""
      ]
    },
    {
      "cell_type": "markdown",
      "id": "d689dc3e",
      "metadata": {
        "id": "d689dc3e"
      },
      "source": [
        "##### Q-31. Write an SQL query to show the current date and time."
      ]
    },
    {
      "cell_type": "code",
      "execution_count": null,
      "id": "92d2a3fa",
      "metadata": {
        "id": "92d2a3fa",
        "outputId": "30346d94-871c-4b28-b550-83f878e2fd7b"
      },
      "outputs": [
        {
          "data": {
            "text/html": [
              "<div>\n",
              "<style scoped>\n",
              "    .dataframe tbody tr th:only-of-type {\n",
              "        vertical-align: middle;\n",
              "    }\n",
              "\n",
              "    .dataframe tbody tr th {\n",
              "        vertical-align: top;\n",
              "    }\n",
              "\n",
              "    .dataframe thead th {\n",
              "        text-align: right;\n",
              "    }\n",
              "</style>\n",
              "<table border=\"1\" class=\"dataframe\">\n",
              "  <thead>\n",
              "    <tr style=\"text-align: right;\">\n",
              "      <th></th>\n",
              "      <th>NOW()</th>\n",
              "    </tr>\n",
              "  </thead>\n",
              "  <tbody>\n",
              "    <tr>\n",
              "      <th>0</th>\n",
              "      <td>2021-10-30 10:19:52</td>\n",
              "    </tr>\n",
              "  </tbody>\n",
              "</table>\n",
              "</div>"
            ],
            "text/plain": [
              "                NOW()\n",
              "0 2021-10-30 10:19:52"
            ]
          },
          "execution_count": 212,
          "metadata": {},
          "output_type": "execute_result"
        }
      ],
      "source": [
        "# for mysql,\n",
        "Ans31 = pd.read_sql(\"select NOW();\", con=mydb)\n",
        "Ans31"
      ]
    },
    {
      "cell_type": "code",
      "execution_count": null,
      "id": "5cdba87b",
      "metadata": {
        "id": "5cdba87b"
      },
      "outputs": [],
      "source": [
        ""
      ]
    },
    {
      "cell_type": "markdown",
      "id": "23c1451e",
      "metadata": {
        "id": "23c1451e"
      },
      "source": [
        "##### Q-32. Write an SQL query to show the top n (say 10) records of a table."
      ]
    },
    {
      "cell_type": "code",
      "execution_count": null,
      "id": "fb952a5f",
      "metadata": {
        "id": "fb952a5f",
        "outputId": "a95d550b-f1d2-4ea7-8b2b-00b15d3776d5"
      },
      "outputs": [
        {
          "data": {
            "text/html": [
              "<div>\n",
              "<style scoped>\n",
              "    .dataframe tbody tr th:only-of-type {\n",
              "        vertical-align: middle;\n",
              "    }\n",
              "\n",
              "    .dataframe tbody tr th {\n",
              "        vertical-align: top;\n",
              "    }\n",
              "\n",
              "    .dataframe thead th {\n",
              "        text-align: right;\n",
              "    }\n",
              "</style>\n",
              "<table border=\"1\" class=\"dataframe\">\n",
              "  <thead>\n",
              "    <tr style=\"text-align: right;\">\n",
              "      <th></th>\n",
              "      <th>WORKER_ID</th>\n",
              "      <th>FIRST_NAME</th>\n",
              "      <th>LAST_NAME</th>\n",
              "      <th>SALARY</th>\n",
              "      <th>JOINING_DATE</th>\n",
              "      <th>DEPARTMENT</th>\n",
              "    </tr>\n",
              "  </thead>\n",
              "  <tbody>\n",
              "    <tr>\n",
              "      <th>0</th>\n",
              "      <td>4</td>\n",
              "      <td>Amitabh</td>\n",
              "      <td>Singh</td>\n",
              "      <td>500000</td>\n",
              "      <td>2014-02-20 09:00:00</td>\n",
              "      <td>Admin</td>\n",
              "    </tr>\n",
              "    <tr>\n",
              "      <th>1</th>\n",
              "      <td>5</td>\n",
              "      <td>Vivek</td>\n",
              "      <td>Bhati</td>\n",
              "      <td>500000</td>\n",
              "      <td>2014-06-11 09:00:00</td>\n",
              "      <td>Admin</td>\n",
              "    </tr>\n",
              "    <tr>\n",
              "      <th>2</th>\n",
              "      <td>3</td>\n",
              "      <td>Vishal</td>\n",
              "      <td>Singhal</td>\n",
              "      <td>300000</td>\n",
              "      <td>2014-02-20 09:00:00</td>\n",
              "      <td>HR</td>\n",
              "    </tr>\n",
              "    <tr>\n",
              "      <th>3</th>\n",
              "      <td>6</td>\n",
              "      <td>Vipul</td>\n",
              "      <td>Diwan</td>\n",
              "      <td>200000</td>\n",
              "      <td>2014-06-11 09:00:00</td>\n",
              "      <td>Account</td>\n",
              "    </tr>\n",
              "    <tr>\n",
              "      <th>4</th>\n",
              "      <td>1</td>\n",
              "      <td>Monika</td>\n",
              "      <td>Arora</td>\n",
              "      <td>100000</td>\n",
              "      <td>2014-02-20 09:00:00</td>\n",
              "      <td>HR</td>\n",
              "    </tr>\n",
              "    <tr>\n",
              "      <th>5</th>\n",
              "      <td>8</td>\n",
              "      <td>Geetika</td>\n",
              "      <td>Chauhan</td>\n",
              "      <td>90000</td>\n",
              "      <td>2014-04-11 09:00:00</td>\n",
              "      <td>Admin</td>\n",
              "    </tr>\n",
              "    <tr>\n",
              "      <th>6</th>\n",
              "      <td>2</td>\n",
              "      <td>Niharika</td>\n",
              "      <td>Verma</td>\n",
              "      <td>80000</td>\n",
              "      <td>2014-06-11 09:00:00</td>\n",
              "      <td>Admin</td>\n",
              "    </tr>\n",
              "    <tr>\n",
              "      <th>7</th>\n",
              "      <td>7</td>\n",
              "      <td>Satish</td>\n",
              "      <td>Kumar</td>\n",
              "      <td>75000</td>\n",
              "      <td>2014-01-20 09:00:00</td>\n",
              "      <td>Account</td>\n",
              "    </tr>\n",
              "  </tbody>\n",
              "</table>\n",
              "</div>"
            ],
            "text/plain": [
              "   WORKER_ID FIRST_NAME LAST_NAME  SALARY        JOINING_DATE DEPARTMENT\n",
              "0          4    Amitabh     Singh  500000 2014-02-20 09:00:00      Admin\n",
              "1          5      Vivek     Bhati  500000 2014-06-11 09:00:00      Admin\n",
              "2          3     Vishal   Singhal  300000 2014-02-20 09:00:00         HR\n",
              "3          6      Vipul     Diwan  200000 2014-06-11 09:00:00    Account\n",
              "4          1     Monika     Arora  100000 2014-02-20 09:00:00         HR\n",
              "5          8    Geetika   Chauhan   90000 2014-04-11 09:00:00      Admin\n",
              "6          2   Niharika     Verma   80000 2014-06-11 09:00:00      Admin\n",
              "7          7     Satish     Kumar   75000 2014-01-20 09:00:00    Account"
            ]
          },
          "execution_count": 19,
          "metadata": {},
          "output_type": "execute_result"
        }
      ],
      "source": [
        "Ans32 = pd.read_sql(\"SELECT * FROM Worker ORDER BY Salary DESC LIMIT 10;\", con=mydb)\n",
        "Ans32"
      ]
    },
    {
      "cell_type": "code",
      "execution_count": null,
      "id": "b176f72d",
      "metadata": {
        "id": "b176f72d"
      },
      "outputs": [],
      "source": [
        ""
      ]
    },
    {
      "cell_type": "markdown",
      "id": "9bceacf2",
      "metadata": {
        "id": "9bceacf2"
      },
      "source": [
        "##### Q-33. Write an SQL query to determine the nth (say n=5) highest salary from a table."
      ]
    },
    {
      "cell_type": "code",
      "execution_count": null,
      "id": "c5c35fcc",
      "metadata": {
        "id": "c5c35fcc",
        "outputId": "9e961da6-9389-48dc-f1e1-09a6cee61de4"
      },
      "outputs": [
        {
          "data": {
            "text/html": [
              "<div>\n",
              "<style scoped>\n",
              "    .dataframe tbody tr th:only-of-type {\n",
              "        vertical-align: middle;\n",
              "    }\n",
              "\n",
              "    .dataframe tbody tr th {\n",
              "        vertical-align: top;\n",
              "    }\n",
              "\n",
              "    .dataframe thead th {\n",
              "        text-align: right;\n",
              "    }\n",
              "</style>\n",
              "<table border=\"1\" class=\"dataframe\">\n",
              "  <thead>\n",
              "    <tr style=\"text-align: right;\">\n",
              "      <th></th>\n",
              "      <th>Salary</th>\n",
              "    </tr>\n",
              "  </thead>\n",
              "  <tbody>\n",
              "    <tr>\n",
              "      <th>0</th>\n",
              "      <td>500000</td>\n",
              "    </tr>\n",
              "    <tr>\n",
              "      <th>1</th>\n",
              "      <td>500000</td>\n",
              "    </tr>\n",
              "    <tr>\n",
              "      <th>2</th>\n",
              "      <td>300000</td>\n",
              "    </tr>\n",
              "    <tr>\n",
              "      <th>3</th>\n",
              "      <td>200000</td>\n",
              "    </tr>\n",
              "    <tr>\n",
              "      <th>4</th>\n",
              "      <td>100000</td>\n",
              "    </tr>\n",
              "  </tbody>\n",
              "</table>\n",
              "</div>"
            ],
            "text/plain": [
              "   Salary\n",
              "0  500000\n",
              "1  500000\n",
              "2  300000\n",
              "3  200000\n",
              "4  100000"
            ]
          },
          "execution_count": 45,
          "metadata": {},
          "output_type": "execute_result"
        }
      ],
      "source": [
        "Ans33 = pd.read_sql(\"SELECT Salary FROM Worker ORDER BY Salary DESC LIMIT 5;\", con=mydb)\n",
        "Ans33"
      ]
    },
    {
      "cell_type": "code",
      "execution_count": null,
      "id": "5daf5d12",
      "metadata": {
        "id": "5daf5d12"
      },
      "outputs": [],
      "source": [
        ""
      ]
    },
    {
      "cell_type": "markdown",
      "id": "082565c0",
      "metadata": {
        "id": "082565c0"
      },
      "source": [
        "##### Q-34. Write an SQL query to determine the 5th highest salary without using TOP or limit method."
      ]
    },
    {
      "cell_type": "code",
      "execution_count": null,
      "id": "7671761c",
      "metadata": {
        "id": "7671761c",
        "outputId": "9831a1a6-f672-41f1-eade-9c68366526c2"
      },
      "outputs": [
        {
          "data": {
            "text/html": [
              "<div>\n",
              "<style scoped>\n",
              "    .dataframe tbody tr th:only-of-type {\n",
              "        vertical-align: middle;\n",
              "    }\n",
              "\n",
              "    .dataframe tbody tr th {\n",
              "        vertical-align: top;\n",
              "    }\n",
              "\n",
              "    .dataframe thead th {\n",
              "        text-align: right;\n",
              "    }\n",
              "</style>\n",
              "<table border=\"1\" class=\"dataframe\">\n",
              "  <thead>\n",
              "    <tr style=\"text-align: right;\">\n",
              "      <th></th>\n",
              "      <th>Salary</th>\n",
              "    </tr>\n",
              "  </thead>\n",
              "  <tbody>\n",
              "    <tr>\n",
              "      <th>0</th>\n",
              "      <td>100000</td>\n",
              "    </tr>\n",
              "  </tbody>\n",
              "</table>\n",
              "</div>"
            ],
            "text/plain": [
              "   Salary\n",
              "0  100000"
            ]
          },
          "execution_count": 46,
          "metadata": {},
          "output_type": "execute_result"
        }
      ],
      "source": [
        "Ans34 = pd.read_sql(\"SELECT Salary FROM Worker W1 WHERE 4 = (SELECT COUNT( DISTINCT ( W2.Salary ) ) FROM Worker W2 WHERE W2.Salary >= W1.Salary);\", con=mydb)\n",
        "Ans34"
      ]
    },
    {
      "cell_type": "code",
      "execution_count": null,
      "id": "b97ff303",
      "metadata": {
        "id": "b97ff303"
      },
      "outputs": [],
      "source": [
        ""
      ]
    },
    {
      "cell_type": "markdown",
      "id": "3582bca8",
      "metadata": {
        "id": "3582bca8"
      },
      "source": [
        "##### Q-35. Write an SQL query to fetch the list of employees with the same salary."
      ]
    },
    {
      "cell_type": "code",
      "execution_count": null,
      "id": "f9adf79e",
      "metadata": {
        "id": "f9adf79e",
        "outputId": "ab7c391d-cd29-44c6-95bf-609945727f26"
      },
      "outputs": [
        {
          "data": {
            "text/html": [
              "<div>\n",
              "<style scoped>\n",
              "    .dataframe tbody tr th:only-of-type {\n",
              "        vertical-align: middle;\n",
              "    }\n",
              "\n",
              "    .dataframe tbody tr th {\n",
              "        vertical-align: top;\n",
              "    }\n",
              "\n",
              "    .dataframe thead th {\n",
              "        text-align: right;\n",
              "    }\n",
              "</style>\n",
              "<table border=\"1\" class=\"dataframe\">\n",
              "  <thead>\n",
              "    <tr style=\"text-align: right;\">\n",
              "      <th></th>\n",
              "      <th>WORKER_ID</th>\n",
              "      <th>FIRST_NAME</th>\n",
              "      <th>Salary</th>\n",
              "    </tr>\n",
              "  </thead>\n",
              "  <tbody>\n",
              "    <tr>\n",
              "      <th>0</th>\n",
              "      <td>5</td>\n",
              "      <td>Vivek</td>\n",
              "      <td>500000</td>\n",
              "    </tr>\n",
              "    <tr>\n",
              "      <th>1</th>\n",
              "      <td>4</td>\n",
              "      <td>Amitabh</td>\n",
              "      <td>500000</td>\n",
              "    </tr>\n",
              "  </tbody>\n",
              "</table>\n",
              "</div>"
            ],
            "text/plain": [
              "   WORKER_ID FIRST_NAME  Salary\n",
              "0          5      Vivek  500000\n",
              "1          4    Amitabh  500000"
            ]
          },
          "execution_count": 47,
          "metadata": {},
          "output_type": "execute_result"
        }
      ],
      "source": [
        "Ans35 = pd.read_sql(\"Select distinct W.WORKER_ID, W.FIRST_NAME, W.Salary from Worker W, Worker W1 where W.Salary = W1.Salary and W.WORKER_ID != W1.WORKER_ID;\", con=mydb)\n",
        "Ans35"
      ]
    },
    {
      "cell_type": "code",
      "execution_count": null,
      "id": "72428a71",
      "metadata": {
        "id": "72428a71"
      },
      "outputs": [],
      "source": [
        ""
      ]
    },
    {
      "cell_type": "markdown",
      "id": "429cbb86",
      "metadata": {
        "id": "429cbb86"
      },
      "source": [
        "##### Q-36. Write an SQL query to show the second highest salary from a table."
      ]
    },
    {
      "cell_type": "code",
      "execution_count": null,
      "id": "080bb138",
      "metadata": {
        "id": "080bb138",
        "outputId": "2e4c1a19-78a2-43c8-82ad-d923a70c7f1d"
      },
      "outputs": [
        {
          "data": {
            "text/html": [
              "<div>\n",
              "<style scoped>\n",
              "    .dataframe tbody tr th:only-of-type {\n",
              "        vertical-align: middle;\n",
              "    }\n",
              "\n",
              "    .dataframe tbody tr th {\n",
              "        vertical-align: top;\n",
              "    }\n",
              "\n",
              "    .dataframe thead th {\n",
              "        text-align: right;\n",
              "    }\n",
              "</style>\n",
              "<table border=\"1\" class=\"dataframe\">\n",
              "  <thead>\n",
              "    <tr style=\"text-align: right;\">\n",
              "      <th></th>\n",
              "      <th>second_highest</th>\n",
              "    </tr>\n",
              "  </thead>\n",
              "  <tbody>\n",
              "    <tr>\n",
              "      <th>0</th>\n",
              "      <td>300000</td>\n",
              "    </tr>\n",
              "  </tbody>\n",
              "</table>\n",
              "</div>"
            ],
            "text/plain": [
              "   second_highest\n",
              "0          300000"
            ]
          },
          "execution_count": 48,
          "metadata": {},
          "output_type": "execute_result"
        }
      ],
      "source": [
        "Ans36 = pd.read_sql(\"Select max(Salary) as second_highest from Worker where Salary not in (Select max(Salary) from Worker);\", con=mydb)\n",
        "Ans36"
      ]
    },
    {
      "cell_type": "code",
      "execution_count": null,
      "id": "ab254fab",
      "metadata": {
        "id": "ab254fab"
      },
      "outputs": [],
      "source": [
        "select * from title t where t.WORKER_TITLE = 'Manager' union all select * from title t1 where t1.WORKER_TITLE = 'manager'"
      ]
    },
    {
      "cell_type": "markdown",
      "id": "90f291bc",
      "metadata": {
        "id": "90f291bc"
      },
      "source": [
        "##### Q-37. Write an SQL query to show one row twice in results from a table."
      ]
    },
    {
      "cell_type": "code",
      "execution_count": null,
      "id": "05567225",
      "metadata": {
        "id": "05567225",
        "outputId": "ac20a33d-ec57-4a8d-8a1a-2e52d45fda33"
      },
      "outputs": [
        {
          "data": {
            "text/html": [
              "<div>\n",
              "<style scoped>\n",
              "    .dataframe tbody tr th:only-of-type {\n",
              "        vertical-align: middle;\n",
              "    }\n",
              "\n",
              "    .dataframe tbody tr th {\n",
              "        vertical-align: top;\n",
              "    }\n",
              "\n",
              "    .dataframe thead th {\n",
              "        text-align: right;\n",
              "    }\n",
              "</style>\n",
              "<table border=\"1\" class=\"dataframe\">\n",
              "  <thead>\n",
              "    <tr style=\"text-align: right;\">\n",
              "      <th></th>\n",
              "      <th>WORKER_REF_ID</th>\n",
              "      <th>WORKER_TITLE</th>\n",
              "      <th>AFFECTED_FROM</th>\n",
              "    </tr>\n",
              "  </thead>\n",
              "  <tbody>\n",
              "    <tr>\n",
              "      <th>0</th>\n",
              "      <td>1</td>\n",
              "      <td>Manager</td>\n",
              "      <td>2016-02-20</td>\n",
              "    </tr>\n",
              "    <tr>\n",
              "      <th>1</th>\n",
              "      <td>5</td>\n",
              "      <td>Manager</td>\n",
              "      <td>2016-06-11</td>\n",
              "    </tr>\n",
              "    <tr>\n",
              "      <th>2</th>\n",
              "      <td>1</td>\n",
              "      <td>Manager</td>\n",
              "      <td>2016-02-20</td>\n",
              "    </tr>\n",
              "    <tr>\n",
              "      <th>3</th>\n",
              "      <td>5</td>\n",
              "      <td>Manager</td>\n",
              "      <td>2016-06-11</td>\n",
              "    </tr>\n",
              "  </tbody>\n",
              "</table>\n",
              "</div>"
            ],
            "text/plain": [
              "   WORKER_REF_ID WORKER_TITLE AFFECTED_FROM\n",
              "0              1      Manager    2016-02-20\n",
              "1              5      Manager    2016-06-11\n",
              "2              1      Manager    2016-02-20\n",
              "3              5      Manager    2016-06-11"
            ]
          },
          "execution_count": 257,
          "metadata": {},
          "output_type": "execute_result"
        }
      ],
      "source": [
        "Ans37 = pd.read_sql(\" select * from title t where t.WORKER_TITLE = 'Manager' union all select * from title t1 where t1.WORKER_TITLE = 'manager';\", con=mydb)\n",
        "Ans37"
      ]
    },
    {
      "cell_type": "code",
      "execution_count": null,
      "id": "f171ddad",
      "metadata": {
        "id": "f171ddad"
      },
      "outputs": [],
      "source": [
        ""
      ]
    },
    {
      "cell_type": "markdown",
      "id": "30eea475",
      "metadata": {
        "id": "30eea475"
      },
      "source": [
        "##### Q-38. Write an SQL query to fetch intersecting records of two tables"
      ]
    },
    {
      "cell_type": "code",
      "execution_count": null,
      "id": "ff6f25dc",
      "metadata": {
        "id": "ff6f25dc"
      },
      "outputs": [],
      "source": [
        "# Answer previously given\n",
        "\n"
      ]
    },
    {
      "cell_type": "code",
      "execution_count": null,
      "id": "cbc43e81",
      "metadata": {
        "id": "cbc43e81"
      },
      "outputs": [],
      "source": [
        ""
      ]
    },
    {
      "cell_type": "markdown",
      "id": "b42eeab8",
      "metadata": {
        "id": "b42eeab8"
      },
      "source": [
        "##### Q-39. Write an SQL query to fetch the first 50% records from a table."
      ]
    },
    {
      "cell_type": "code",
      "execution_count": null,
      "id": "6894237d",
      "metadata": {
        "id": "6894237d",
        "outputId": "30232f2d-22a1-434e-a36f-442e790b0a32"
      },
      "outputs": [
        {
          "data": {
            "text/html": [
              "<div>\n",
              "<style scoped>\n",
              "    .dataframe tbody tr th:only-of-type {\n",
              "        vertical-align: middle;\n",
              "    }\n",
              "\n",
              "    .dataframe tbody tr th {\n",
              "        vertical-align: top;\n",
              "    }\n",
              "\n",
              "    .dataframe thead th {\n",
              "        text-align: right;\n",
              "    }\n",
              "</style>\n",
              "<table border=\"1\" class=\"dataframe\">\n",
              "  <thead>\n",
              "    <tr style=\"text-align: right;\">\n",
              "      <th></th>\n",
              "      <th>WORKER_ID</th>\n",
              "      <th>FIRST_NAME</th>\n",
              "      <th>LAST_NAME</th>\n",
              "      <th>SALARY</th>\n",
              "      <th>JOINING_DATE</th>\n",
              "      <th>DEPARTMENT</th>\n",
              "    </tr>\n",
              "  </thead>\n",
              "  <tbody>\n",
              "    <tr>\n",
              "      <th>0</th>\n",
              "      <td>1</td>\n",
              "      <td>Monika</td>\n",
              "      <td>Arora</td>\n",
              "      <td>100000</td>\n",
              "      <td>2014-02-20 09:00:00</td>\n",
              "      <td>HR</td>\n",
              "    </tr>\n",
              "    <tr>\n",
              "      <th>1</th>\n",
              "      <td>2</td>\n",
              "      <td>Niharika</td>\n",
              "      <td>Verma</td>\n",
              "      <td>80000</td>\n",
              "      <td>2014-06-11 09:00:00</td>\n",
              "      <td>Admin</td>\n",
              "    </tr>\n",
              "    <tr>\n",
              "      <th>2</th>\n",
              "      <td>3</td>\n",
              "      <td>Vishal</td>\n",
              "      <td>Singhal</td>\n",
              "      <td>300000</td>\n",
              "      <td>2014-02-20 09:00:00</td>\n",
              "      <td>HR</td>\n",
              "    </tr>\n",
              "    <tr>\n",
              "      <th>3</th>\n",
              "      <td>4</td>\n",
              "      <td>Amitabh</td>\n",
              "      <td>Singh</td>\n",
              "      <td>500000</td>\n",
              "      <td>2014-02-20 09:00:00</td>\n",
              "      <td>Admin</td>\n",
              "    </tr>\n",
              "  </tbody>\n",
              "</table>\n",
              "</div>"
            ],
            "text/plain": [
              "   WORKER_ID FIRST_NAME LAST_NAME  SALARY        JOINING_DATE DEPARTMENT\n",
              "0          1     Monika     Arora  100000 2014-02-20 09:00:00         HR\n",
              "1          2   Niharika     Verma   80000 2014-06-11 09:00:00      Admin\n",
              "2          3     Vishal   Singhal  300000 2014-02-20 09:00:00         HR\n",
              "3          4    Amitabh     Singh  500000 2014-02-20 09:00:00      Admin"
            ]
          },
          "execution_count": 20,
          "metadata": {},
          "output_type": "execute_result"
        }
      ],
      "source": [
        "Ans39 = pd.read_sql(\"select * from worker where WORKER_ID <= (SELECT count(WORKER_ID)/2 from Worker);\", con=mydb)\n",
        "Ans39"
      ]
    },
    {
      "cell_type": "code",
      "execution_count": null,
      "id": "06380bcb",
      "metadata": {
        "id": "06380bcb"
      },
      "outputs": [],
      "source": [
        ""
      ]
    },
    {
      "cell_type": "markdown",
      "id": "2a3e7325",
      "metadata": {
        "id": "2a3e7325"
      },
      "source": [
        "##### Q-40. Write an SQL query to fetch the departments that have less than five people in it.."
      ]
    },
    {
      "cell_type": "code",
      "execution_count": null,
      "id": "cf4e2caf",
      "metadata": {
        "id": "cf4e2caf",
        "outputId": "a86bbe8f-c9b8-4cc3-e7c2-9e37953f61f6"
      },
      "outputs": [
        {
          "data": {
            "text/html": [
              "<div>\n",
              "<style scoped>\n",
              "    .dataframe tbody tr th:only-of-type {\n",
              "        vertical-align: middle;\n",
              "    }\n",
              "\n",
              "    .dataframe tbody tr th {\n",
              "        vertical-align: top;\n",
              "    }\n",
              "\n",
              "    .dataframe thead th {\n",
              "        text-align: right;\n",
              "    }\n",
              "</style>\n",
              "<table border=\"1\" class=\"dataframe\">\n",
              "  <thead>\n",
              "    <tr style=\"text-align: right;\">\n",
              "      <th></th>\n",
              "      <th>DEPARTMENT</th>\n",
              "      <th>number_of_workers</th>\n",
              "    </tr>\n",
              "  </thead>\n",
              "  <tbody>\n",
              "    <tr>\n",
              "      <th>0</th>\n",
              "      <td>HR</td>\n",
              "      <td>2</td>\n",
              "    </tr>\n",
              "    <tr>\n",
              "      <th>1</th>\n",
              "      <td>Admin</td>\n",
              "      <td>4</td>\n",
              "    </tr>\n",
              "    <tr>\n",
              "      <th>2</th>\n",
              "      <td>Account</td>\n",
              "      <td>2</td>\n",
              "    </tr>\n",
              "  </tbody>\n",
              "</table>\n",
              "</div>"
            ],
            "text/plain": [
              "  DEPARTMENT  number_of_workers\n",
              "0         HR                  2\n",
              "1      Admin                  4\n",
              "2    Account                  2"
            ]
          },
          "execution_count": 21,
          "metadata": {},
          "output_type": "execute_result"
        }
      ],
      "source": [
        "Ans40 = pd.read_sql(\"Select DEPARTMENT, count(worker_id) as number_of_workers from worker where department < 5 group by department;\", con=mydb)\n",
        "Ans40"
      ]
    },
    {
      "cell_type": "code",
      "execution_count": null,
      "id": "24be3b50",
      "metadata": {
        "id": "24be3b50",
        "outputId": "30242ee9-7782-42bc-d21e-d03530d5256d"
      },
      "outputs": [
        {
          "data": {
            "text/html": [
              "<div>\n",
              "<style scoped>\n",
              "    .dataframe tbody tr th:only-of-type {\n",
              "        vertical-align: middle;\n",
              "    }\n",
              "\n",
              "    .dataframe tbody tr th {\n",
              "        vertical-align: top;\n",
              "    }\n",
              "\n",
              "    .dataframe thead th {\n",
              "        text-align: right;\n",
              "    }\n",
              "</style>\n",
              "<table border=\"1\" class=\"dataframe\">\n",
              "  <thead>\n",
              "    <tr style=\"text-align: right;\">\n",
              "      <th></th>\n",
              "      <th>DEPARTMENT</th>\n",
              "      <th>Number of Workers</th>\n",
              "    </tr>\n",
              "  </thead>\n",
              "  <tbody>\n",
              "    <tr>\n",
              "      <th>0</th>\n",
              "      <td>HR</td>\n",
              "      <td>2</td>\n",
              "    </tr>\n",
              "    <tr>\n",
              "      <th>1</th>\n",
              "      <td>Admin</td>\n",
              "      <td>4</td>\n",
              "    </tr>\n",
              "    <tr>\n",
              "      <th>2</th>\n",
              "      <td>Account</td>\n",
              "      <td>2</td>\n",
              "    </tr>\n",
              "  </tbody>\n",
              "</table>\n",
              "</div>"
            ],
            "text/plain": [
              "  DEPARTMENT  Number of Workers\n",
              "0         HR                  2\n",
              "1      Admin                  4\n",
              "2    Account                  2"
            ]
          },
          "execution_count": 22,
          "metadata": {},
          "output_type": "execute_result"
        }
      ],
      "source": [
        "# Alternatively,\n",
        "p = pd.read_sql(\"SELECT DEPARTMENT, COUNT(WORKER_ID) as 'Number of Workers' FROM Worker GROUP BY DEPARTMENT HAVING COUNT(WORKER_ID) < 5;\", con=mydb)\n",
        "p"
      ]
    },
    {
      "cell_type": "code",
      "execution_count": null,
      "id": "bc117ccc",
      "metadata": {
        "id": "bc117ccc"
      },
      "outputs": [],
      "source": [
        ""
      ]
    },
    {
      "cell_type": "markdown",
      "id": "ed1e863f",
      "metadata": {
        "id": "ed1e863f"
      },
      "source": [
        "##### Q-41. Write an SQL query to show all departments along with the number of people in there.\n"
      ]
    },
    {
      "cell_type": "code",
      "execution_count": null,
      "id": "cf77d29b",
      "metadata": {
        "id": "cf77d29b",
        "outputId": "34392077-2e63-4a51-b046-8c48bf5c9100"
      },
      "outputs": [
        {
          "data": {
            "text/html": [
              "<div>\n",
              "<style scoped>\n",
              "    .dataframe tbody tr th:only-of-type {\n",
              "        vertical-align: middle;\n",
              "    }\n",
              "\n",
              "    .dataframe tbody tr th {\n",
              "        vertical-align: top;\n",
              "    }\n",
              "\n",
              "    .dataframe thead th {\n",
              "        text-align: right;\n",
              "    }\n",
              "</style>\n",
              "<table border=\"1\" class=\"dataframe\">\n",
              "  <thead>\n",
              "    <tr style=\"text-align: right;\">\n",
              "      <th></th>\n",
              "      <th>department</th>\n",
              "      <th>number_of_workers</th>\n",
              "    </tr>\n",
              "  </thead>\n",
              "  <tbody>\n",
              "    <tr>\n",
              "      <th>0</th>\n",
              "      <td>HR</td>\n",
              "      <td>2</td>\n",
              "    </tr>\n",
              "    <tr>\n",
              "      <th>1</th>\n",
              "      <td>Admin</td>\n",
              "      <td>4</td>\n",
              "    </tr>\n",
              "    <tr>\n",
              "      <th>2</th>\n",
              "      <td>Account</td>\n",
              "      <td>2</td>\n",
              "    </tr>\n",
              "  </tbody>\n",
              "</table>\n",
              "</div>"
            ],
            "text/plain": [
              "  department  number_of_workers\n",
              "0         HR                  2\n",
              "1      Admin                  4\n",
              "2    Account                  2"
            ]
          },
          "execution_count": 23,
          "metadata": {},
          "output_type": "execute_result"
        }
      ],
      "source": [
        "Ans41 = pd.read_sql(\"select department, count(department) as number_of_workers from worker group by department;\", con=mydb)\n",
        "Ans41"
      ]
    },
    {
      "cell_type": "code",
      "execution_count": null,
      "id": "a453dcff",
      "metadata": {
        "id": "a453dcff"
      },
      "outputs": [],
      "source": [
        ""
      ]
    },
    {
      "cell_type": "markdown",
      "id": "85dc61f3",
      "metadata": {
        "id": "85dc61f3"
      },
      "source": [
        "##### Q-42. Write an SQL query to show the last record from a table."
      ]
    },
    {
      "cell_type": "code",
      "execution_count": null,
      "id": "acc86503",
      "metadata": {
        "id": "acc86503",
        "outputId": "5125bdd0-d73d-4c92-d04c-cc7f6be4d83d"
      },
      "outputs": [
        {
          "data": {
            "text/html": [
              "<div>\n",
              "<style scoped>\n",
              "    .dataframe tbody tr th:only-of-type {\n",
              "        vertical-align: middle;\n",
              "    }\n",
              "\n",
              "    .dataframe tbody tr th {\n",
              "        vertical-align: top;\n",
              "    }\n",
              "\n",
              "    .dataframe thead th {\n",
              "        text-align: right;\n",
              "    }\n",
              "</style>\n",
              "<table border=\"1\" class=\"dataframe\">\n",
              "  <thead>\n",
              "    <tr style=\"text-align: right;\">\n",
              "      <th></th>\n",
              "      <th>WORKER_REF_ID</th>\n",
              "      <th>WORKER_TITLE</th>\n",
              "      <th>AFFECTED_FROM</th>\n",
              "    </tr>\n",
              "  </thead>\n",
              "  <tbody>\n",
              "    <tr>\n",
              "      <th>0</th>\n",
              "      <td>8</td>\n",
              "      <td>Executive</td>\n",
              "      <td>2016-06-11</td>\n",
              "    </tr>\n",
              "  </tbody>\n",
              "</table>\n",
              "</div>"
            ],
            "text/plain": [
              "   WORKER_REF_ID WORKER_TITLE AFFECTED_FROM\n",
              "0              8    Executive    2016-06-11"
            ]
          },
          "execution_count": 24,
          "metadata": {},
          "output_type": "execute_result"
        }
      ],
      "source": [
        "Ans42 = pd.read_sql(\"Select * from title order by WORKER_REF_ID desc limit 1;\", con=mydb)\n",
        "Ans42"
      ]
    },
    {
      "cell_type": "code",
      "execution_count": null,
      "id": "d38f57d1",
      "metadata": {
        "id": "d38f57d1",
        "outputId": "f5d05ac5-5642-4d65-b88c-0e385e1501e4"
      },
      "outputs": [
        {
          "data": {
            "text/html": [
              "<div>\n",
              "<style scoped>\n",
              "    .dataframe tbody tr th:only-of-type {\n",
              "        vertical-align: middle;\n",
              "    }\n",
              "\n",
              "    .dataframe tbody tr th {\n",
              "        vertical-align: top;\n",
              "    }\n",
              "\n",
              "    .dataframe thead th {\n",
              "        text-align: right;\n",
              "    }\n",
              "</style>\n",
              "<table border=\"1\" class=\"dataframe\">\n",
              "  <thead>\n",
              "    <tr style=\"text-align: right;\">\n",
              "      <th></th>\n",
              "      <th>WORKER_REF_ID</th>\n",
              "      <th>WORKER_TITLE</th>\n",
              "      <th>AFFECTED_FROM</th>\n",
              "    </tr>\n",
              "  </thead>\n",
              "  <tbody>\n",
              "    <tr>\n",
              "      <th>0</th>\n",
              "      <td>8</td>\n",
              "      <td>Executive</td>\n",
              "      <td>2016-06-11</td>\n",
              "    </tr>\n",
              "  </tbody>\n",
              "</table>\n",
              "</div>"
            ],
            "text/plain": [
              "   WORKER_REF_ID WORKER_TITLE AFFECTED_FROM\n",
              "0              8    Executive    2016-06-11"
            ]
          },
          "execution_count": 271,
          "metadata": {},
          "output_type": "execute_result"
        }
      ],
      "source": [
        "# alternatively,\n",
        "w = pd.read_sql(\"Select * from title where WORKER_REF_ID = (SELECT max(WORKER_ID) from Worker);\", con=mydb)\n",
        "w"
      ]
    },
    {
      "cell_type": "markdown",
      "id": "d03de797",
      "metadata": {
        "id": "d03de797"
      },
      "source": [
        "##### Q-43. Write an SQL query to fetch the first row of a table."
      ]
    },
    {
      "cell_type": "code",
      "execution_count": null,
      "id": "04d01215",
      "metadata": {
        "id": "04d01215",
        "outputId": "8d9121c5-371a-4486-86f6-d983bb531e04"
      },
      "outputs": [
        {
          "data": {
            "text/html": [
              "<div>\n",
              "<style scoped>\n",
              "    .dataframe tbody tr th:only-of-type {\n",
              "        vertical-align: middle;\n",
              "    }\n",
              "\n",
              "    .dataframe tbody tr th {\n",
              "        vertical-align: top;\n",
              "    }\n",
              "\n",
              "    .dataframe thead th {\n",
              "        text-align: right;\n",
              "    }\n",
              "</style>\n",
              "<table border=\"1\" class=\"dataframe\">\n",
              "  <thead>\n",
              "    <tr style=\"text-align: right;\">\n",
              "      <th></th>\n",
              "      <th>WORKER_REF_ID</th>\n",
              "      <th>WORKER_TITLE</th>\n",
              "      <th>AFFECTED_FROM</th>\n",
              "    </tr>\n",
              "  </thead>\n",
              "  <tbody>\n",
              "    <tr>\n",
              "      <th>0</th>\n",
              "      <td>1</td>\n",
              "      <td>Manager</td>\n",
              "      <td>2016-02-20</td>\n",
              "    </tr>\n",
              "  </tbody>\n",
              "</table>\n",
              "</div>"
            ],
            "text/plain": [
              "   WORKER_REF_ID WORKER_TITLE AFFECTED_FROM\n",
              "0              1      Manager    2016-02-20"
            ]
          },
          "execution_count": 273,
          "metadata": {},
          "output_type": "execute_result"
        }
      ],
      "source": [
        "Ans43 = pd.read_sql(\"Select * from title limit 1;\", con=mydb)\n",
        "Ans43"
      ]
    },
    {
      "cell_type": "code",
      "execution_count": null,
      "id": "aee59312",
      "metadata": {
        "id": "aee59312"
      },
      "outputs": [],
      "source": [
        ""
      ]
    },
    {
      "cell_type": "markdown",
      "id": "45db3647",
      "metadata": {
        "id": "45db3647"
      },
      "source": [
        "##### Q-44. Write an SQL query to fetch the last five records from a table"
      ]
    },
    {
      "cell_type": "code",
      "execution_count": null,
      "id": "fad18785",
      "metadata": {
        "id": "fad18785",
        "outputId": "cbc0f56d-e14f-42ed-a4f2-c807c0500ab7"
      },
      "outputs": [
        {
          "data": {
            "text/html": [
              "<div>\n",
              "<style scoped>\n",
              "    .dataframe tbody tr th:only-of-type {\n",
              "        vertical-align: middle;\n",
              "    }\n",
              "\n",
              "    .dataframe tbody tr th {\n",
              "        vertical-align: top;\n",
              "    }\n",
              "\n",
              "    .dataframe thead th {\n",
              "        text-align: right;\n",
              "    }\n",
              "</style>\n",
              "<table border=\"1\" class=\"dataframe\">\n",
              "  <thead>\n",
              "    <tr style=\"text-align: right;\">\n",
              "      <th></th>\n",
              "      <th>WORKER_ID</th>\n",
              "      <th>FIRST_NAME</th>\n",
              "      <th>LAST_NAME</th>\n",
              "      <th>SALARY</th>\n",
              "      <th>JOINING_DATE</th>\n",
              "      <th>DEPARTMENT</th>\n",
              "    </tr>\n",
              "  </thead>\n",
              "  <tbody>\n",
              "    <tr>\n",
              "      <th>0</th>\n",
              "      <td>1</td>\n",
              "      <td>Monika</td>\n",
              "      <td>Arora</td>\n",
              "      <td>100000</td>\n",
              "      <td>2014-02-20 09:00:00</td>\n",
              "      <td>HR</td>\n",
              "    </tr>\n",
              "    <tr>\n",
              "      <th>1</th>\n",
              "      <td>2</td>\n",
              "      <td>Niharika</td>\n",
              "      <td>Verma</td>\n",
              "      <td>80000</td>\n",
              "      <td>2014-06-11 09:00:00</td>\n",
              "      <td>Admin</td>\n",
              "    </tr>\n",
              "    <tr>\n",
              "      <th>2</th>\n",
              "      <td>3</td>\n",
              "      <td>Vishal</td>\n",
              "      <td>Singhal</td>\n",
              "      <td>300000</td>\n",
              "      <td>2014-02-20 09:00:00</td>\n",
              "      <td>HR</td>\n",
              "    </tr>\n",
              "    <tr>\n",
              "      <th>3</th>\n",
              "      <td>4</td>\n",
              "      <td>Amitabh</td>\n",
              "      <td>Singh</td>\n",
              "      <td>500000</td>\n",
              "      <td>2014-02-20 09:00:00</td>\n",
              "      <td>Admin</td>\n",
              "    </tr>\n",
              "    <tr>\n",
              "      <th>4</th>\n",
              "      <td>5</td>\n",
              "      <td>Vivek</td>\n",
              "      <td>Bhati</td>\n",
              "      <td>500000</td>\n",
              "      <td>2014-06-11 09:00:00</td>\n",
              "      <td>Admin</td>\n",
              "    </tr>\n",
              "  </tbody>\n",
              "</table>\n",
              "</div>"
            ],
            "text/plain": [
              "   WORKER_ID FIRST_NAME LAST_NAME  SALARY        JOINING_DATE DEPARTMENT\n",
              "0          1     Monika     Arora  100000 2014-02-20 09:00:00         HR\n",
              "1          2   Niharika     Verma   80000 2014-06-11 09:00:00      Admin\n",
              "2          3     Vishal   Singhal  300000 2014-02-20 09:00:00         HR\n",
              "3          4    Amitabh     Singh  500000 2014-02-20 09:00:00      Admin\n",
              "4          5      Vivek     Bhati  500000 2014-06-11 09:00:00      Admin"
            ]
          },
          "execution_count": 25,
          "metadata": {},
          "output_type": "execute_result"
        }
      ],
      "source": [
        "Ans44 = pd.read_sql(\"SELECT * FROM Worker WHERE WORKER_ID <=5 UNION SELECT * FROM (SELECT * FROM Worker W order by W.WORKER_ID DESC) AS W1 WHERE W1.WORKER_ID <=5;\", con=mydb)\n",
        "Ans44"
      ]
    },
    {
      "cell_type": "code",
      "execution_count": null,
      "id": "dab3bcb7",
      "metadata": {
        "id": "dab3bcb7"
      },
      "outputs": [],
      "source": [
        ""
      ]
    },
    {
      "cell_type": "markdown",
      "id": "7a210318",
      "metadata": {
        "id": "7a210318"
      },
      "source": [
        "##### Q-45. Write an SQL query to print the name of employees having the highest salary in each department."
      ]
    },
    {
      "cell_type": "code",
      "execution_count": null,
      "id": "061ee51c",
      "metadata": {
        "id": "061ee51c",
        "outputId": "79fbfb7d-1231-44eb-e4dd-639ec33a616d"
      },
      "outputs": [
        {
          "data": {
            "text/html": [
              "<div>\n",
              "<style scoped>\n",
              "    .dataframe tbody tr th:only-of-type {\n",
              "        vertical-align: middle;\n",
              "    }\n",
              "\n",
              "    .dataframe tbody tr th {\n",
              "        vertical-align: top;\n",
              "    }\n",
              "\n",
              "    .dataframe thead th {\n",
              "        text-align: right;\n",
              "    }\n",
              "</style>\n",
              "<table border=\"1\" class=\"dataframe\">\n",
              "  <thead>\n",
              "    <tr style=\"text-align: right;\">\n",
              "      <th></th>\n",
              "      <th>DEPARTMENT</th>\n",
              "      <th>FIRST_NAME</th>\n",
              "      <th>Salary</th>\n",
              "    </tr>\n",
              "  </thead>\n",
              "  <tbody>\n",
              "    <tr>\n",
              "      <th>0</th>\n",
              "      <td>HR</td>\n",
              "      <td>Vishal</td>\n",
              "      <td>300000</td>\n",
              "    </tr>\n",
              "    <tr>\n",
              "      <th>1</th>\n",
              "      <td>Admin</td>\n",
              "      <td>Amitabh</td>\n",
              "      <td>500000</td>\n",
              "    </tr>\n",
              "    <tr>\n",
              "      <th>2</th>\n",
              "      <td>Admin</td>\n",
              "      <td>Vivek</td>\n",
              "      <td>500000</td>\n",
              "    </tr>\n",
              "    <tr>\n",
              "      <th>3</th>\n",
              "      <td>Account</td>\n",
              "      <td>Vipul</td>\n",
              "      <td>200000</td>\n",
              "    </tr>\n",
              "  </tbody>\n",
              "</table>\n",
              "</div>"
            ],
            "text/plain": [
              "  DEPARTMENT FIRST_NAME  Salary\n",
              "0         HR     Vishal  300000\n",
              "1      Admin    Amitabh  500000\n",
              "2      Admin      Vivek  500000\n",
              "3    Account      Vipul  200000"
            ]
          },
          "execution_count": 26,
          "metadata": {},
          "output_type": "execute_result"
        }
      ],
      "source": [
        "Ans45 = pd.read_sql(\"SELECT t.DEPARTMENT,t.FIRST_NAME,t.Salary from(SELECT max(Salary) as TotalSalary,DEPARTMENT from Worker group by DEPARTMENT) as TempNew Inner Join Worker t on TempNew.DEPARTMENT=t.DEPARTMENT and TempNew.TotalSalary=t.Salary;\", con=mydb)\n",
        "Ans45"
      ]
    },
    {
      "cell_type": "code",
      "execution_count": null,
      "id": "0d644273",
      "metadata": {
        "id": "0d644273"
      },
      "outputs": [],
      "source": [
        ""
      ]
    },
    {
      "cell_type": "markdown",
      "id": "5e662e10",
      "metadata": {
        "id": "5e662e10"
      },
      "source": [
        "##### Q-46. Write an SQL query to fetch three max salaries from a table."
      ]
    },
    {
      "cell_type": "code",
      "execution_count": null,
      "id": "56b82ae5",
      "metadata": {
        "id": "56b82ae5",
        "outputId": "8c6c158a-8024-49c1-d868-3e4952658c2c"
      },
      "outputs": [
        {
          "data": {
            "text/html": [
              "<div>\n",
              "<style scoped>\n",
              "    .dataframe tbody tr th:only-of-type {\n",
              "        vertical-align: middle;\n",
              "    }\n",
              "\n",
              "    .dataframe tbody tr th {\n",
              "        vertical-align: top;\n",
              "    }\n",
              "\n",
              "    .dataframe thead th {\n",
              "        text-align: right;\n",
              "    }\n",
              "</style>\n",
              "<table border=\"1\" class=\"dataframe\">\n",
              "  <thead>\n",
              "    <tr style=\"text-align: right;\">\n",
              "      <th></th>\n",
              "      <th>Salary</th>\n",
              "    </tr>\n",
              "  </thead>\n",
              "  <tbody>\n",
              "    <tr>\n",
              "      <th>0</th>\n",
              "      <td>500000</td>\n",
              "    </tr>\n",
              "    <tr>\n",
              "      <th>1</th>\n",
              "      <td>300000</td>\n",
              "    </tr>\n",
              "    <tr>\n",
              "      <th>2</th>\n",
              "      <td>200000</td>\n",
              "    </tr>\n",
              "  </tbody>\n",
              "</table>\n",
              "</div>"
            ],
            "text/plain": [
              "   Salary\n",
              "0  500000\n",
              "1  300000\n",
              "2  200000"
            ]
          },
          "execution_count": 27,
          "metadata": {},
          "output_type": "execute_result"
        }
      ],
      "source": [
        "Ans46 = pd.read_sql(\"SELECT distinct Salary from worker a WHERE 3 >= (SELECT count(distinct Salary) from worker b WHERE a.Salary <= b.Salary) order by a.Salary desc;\", con=mydb)\n",
        "Ans46"
      ]
    },
    {
      "cell_type": "code",
      "execution_count": null,
      "id": "7def6eb7",
      "metadata": {
        "id": "7def6eb7"
      },
      "outputs": [],
      "source": [
        ""
      ]
    },
    {
      "cell_type": "markdown",
      "id": "5496fbd5",
      "metadata": {
        "id": "5496fbd5"
      },
      "source": [
        "##### Q-47. Write an SQL query to fetch three min salaries from a table."
      ]
    },
    {
      "cell_type": "code",
      "execution_count": null,
      "id": "ef93aee1",
      "metadata": {
        "id": "ef93aee1",
        "outputId": "827a98a7-d35e-4641-c063-f9e02bfb357b"
      },
      "outputs": [
        {
          "data": {
            "text/html": [
              "<div>\n",
              "<style scoped>\n",
              "    .dataframe tbody tr th:only-of-type {\n",
              "        vertical-align: middle;\n",
              "    }\n",
              "\n",
              "    .dataframe tbody tr th {\n",
              "        vertical-align: top;\n",
              "    }\n",
              "\n",
              "    .dataframe thead th {\n",
              "        text-align: right;\n",
              "    }\n",
              "</style>\n",
              "<table border=\"1\" class=\"dataframe\">\n",
              "  <thead>\n",
              "    <tr style=\"text-align: right;\">\n",
              "      <th></th>\n",
              "      <th>Salary</th>\n",
              "    </tr>\n",
              "  </thead>\n",
              "  <tbody>\n",
              "    <tr>\n",
              "      <th>0</th>\n",
              "      <td>90000</td>\n",
              "    </tr>\n",
              "    <tr>\n",
              "      <th>1</th>\n",
              "      <td>80000</td>\n",
              "    </tr>\n",
              "    <tr>\n",
              "      <th>2</th>\n",
              "      <td>75000</td>\n",
              "    </tr>\n",
              "  </tbody>\n",
              "</table>\n",
              "</div>"
            ],
            "text/plain": [
              "   Salary\n",
              "0   90000\n",
              "1   80000\n",
              "2   75000"
            ]
          },
          "execution_count": 28,
          "metadata": {},
          "output_type": "execute_result"
        }
      ],
      "source": [
        "Ans47 = pd.read_sql(\"SELECT distinct Salary from worker a WHERE 3 >= (SELECT count(distinct Salary) from worker b WHERE a.Salary >= b.Salary) order by a.Salary desc;\", con=mydb)\n",
        "Ans47"
      ]
    },
    {
      "cell_type": "code",
      "execution_count": null,
      "id": "4c586319",
      "metadata": {
        "id": "4c586319"
      },
      "outputs": [],
      "source": [
        ""
      ]
    },
    {
      "cell_type": "markdown",
      "id": "5820c856",
      "metadata": {
        "id": "5820c856"
      },
      "source": [
        "##### Q-48. Write an SQL query to fetch nth max salaries from a table"
      ]
    },
    {
      "cell_type": "code",
      "execution_count": null,
      "id": "2f07b8a9",
      "metadata": {
        "id": "2f07b8a9",
        "outputId": "824a44e6-df29-464f-d4d5-bdc416fa76b7"
      },
      "outputs": [
        {
          "data": {
            "text/html": [
              "<div>\n",
              "<style scoped>\n",
              "    .dataframe tbody tr th:only-of-type {\n",
              "        vertical-align: middle;\n",
              "    }\n",
              "\n",
              "    .dataframe tbody tr th {\n",
              "        vertical-align: top;\n",
              "    }\n",
              "\n",
              "    .dataframe thead th {\n",
              "        text-align: right;\n",
              "    }\n",
              "</style>\n",
              "<table border=\"1\" class=\"dataframe\">\n",
              "  <thead>\n",
              "    <tr style=\"text-align: right;\">\n",
              "      <th></th>\n",
              "      <th>Salary</th>\n",
              "    </tr>\n",
              "  </thead>\n",
              "  <tbody>\n",
              "    <tr>\n",
              "      <th>0</th>\n",
              "      <td>500000</td>\n",
              "    </tr>\n",
              "    <tr>\n",
              "      <th>1</th>\n",
              "      <td>300000</td>\n",
              "    </tr>\n",
              "  </tbody>\n",
              "</table>\n",
              "</div>"
            ],
            "text/plain": [
              "   Salary\n",
              "0  500000\n",
              "1  300000"
            ]
          },
          "execution_count": 30,
          "metadata": {},
          "output_type": "execute_result"
        }
      ],
      "source": [
        "# n=2\n",
        "Ans48 = pd.read_sql(\"SELECT distinct Salary from worker a WHERE 2 >= (SELECT count(distinct Salary) from worker b WHERE a.Salary <= b.Salary) order by a.Salary desc;\", con=mydb)\n",
        "Ans48"
      ]
    },
    {
      "cell_type": "code",
      "execution_count": null,
      "id": "ebdaa495",
      "metadata": {
        "id": "ebdaa495"
      },
      "outputs": [],
      "source": [
        ""
      ]
    },
    {
      "cell_type": "markdown",
      "id": "9f01fa19",
      "metadata": {
        "id": "9f01fa19"
      },
      "source": [
        "##### Q-49. Write an SQL query to fetch departments along with the total salaries paid for each of them"
      ]
    },
    {
      "cell_type": "code",
      "execution_count": null,
      "id": "7868fc39",
      "metadata": {
        "id": "7868fc39",
        "outputId": "a34f3401-36e6-4d5b-bed7-7731eb4d1013"
      },
      "outputs": [
        {
          "data": {
            "text/html": [
              "<div>\n",
              "<style scoped>\n",
              "    .dataframe tbody tr th:only-of-type {\n",
              "        vertical-align: middle;\n",
              "    }\n",
              "\n",
              "    .dataframe tbody tr th {\n",
              "        vertical-align: top;\n",
              "    }\n",
              "\n",
              "    .dataframe thead th {\n",
              "        text-align: right;\n",
              "    }\n",
              "</style>\n",
              "<table border=\"1\" class=\"dataframe\">\n",
              "  <thead>\n",
              "    <tr style=\"text-align: right;\">\n",
              "      <th></th>\n",
              "      <th>DEPARTMENT</th>\n",
              "      <th>sum(Salary)</th>\n",
              "    </tr>\n",
              "  </thead>\n",
              "  <tbody>\n",
              "    <tr>\n",
              "      <th>0</th>\n",
              "      <td>HR</td>\n",
              "      <td>400000.0</td>\n",
              "    </tr>\n",
              "    <tr>\n",
              "      <th>1</th>\n",
              "      <td>Admin</td>\n",
              "      <td>1170000.0</td>\n",
              "    </tr>\n",
              "    <tr>\n",
              "      <th>2</th>\n",
              "      <td>Account</td>\n",
              "      <td>275000.0</td>\n",
              "    </tr>\n",
              "  </tbody>\n",
              "</table>\n",
              "</div>"
            ],
            "text/plain": [
              "  DEPARTMENT  sum(Salary)\n",
              "0         HR     400000.0\n",
              "1      Admin    1170000.0\n",
              "2    Account     275000.0"
            ]
          },
          "execution_count": 31,
          "metadata": {},
          "output_type": "execute_result"
        }
      ],
      "source": [
        "Ans49 = pd.read_sql(\"SELECT DEPARTMENT, sum(Salary) from worker group by DEPARTMENT;\", con=mydb)\n",
        "Ans49"
      ]
    },
    {
      "cell_type": "code",
      "execution_count": null,
      "id": "5aa3d0dd",
      "metadata": {
        "id": "5aa3d0dd"
      },
      "outputs": [],
      "source": [
        ""
      ]
    },
    {
      "cell_type": "markdown",
      "id": "827be7bf",
      "metadata": {
        "id": "827be7bf"
      },
      "source": [
        "##### Q-50. Write an SQL query to fetch the names of workers who earn the highest salary."
      ]
    },
    {
      "cell_type": "code",
      "execution_count": null,
      "id": "edf7827b",
      "metadata": {
        "id": "edf7827b",
        "outputId": "5b9caa82-b8bf-453b-ec0e-c0c651cf0f69"
      },
      "outputs": [
        {
          "data": {
            "text/html": [
              "<div>\n",
              "<style scoped>\n",
              "    .dataframe tbody tr th:only-of-type {\n",
              "        vertical-align: middle;\n",
              "    }\n",
              "\n",
              "    .dataframe tbody tr th {\n",
              "        vertical-align: top;\n",
              "    }\n",
              "\n",
              "    .dataframe thead th {\n",
              "        text-align: right;\n",
              "    }\n",
              "</style>\n",
              "<table border=\"1\" class=\"dataframe\">\n",
              "  <thead>\n",
              "    <tr style=\"text-align: right;\">\n",
              "      <th></th>\n",
              "      <th>NAME</th>\n",
              "      <th>SALARY</th>\n",
              "    </tr>\n",
              "  </thead>\n",
              "  <tbody>\n",
              "    <tr>\n",
              "      <th>0</th>\n",
              "      <td>Amitabh Singh</td>\n",
              "      <td>500000</td>\n",
              "    </tr>\n",
              "    <tr>\n",
              "      <th>1</th>\n",
              "      <td>Vivek Bhati</td>\n",
              "      <td>500000</td>\n",
              "    </tr>\n",
              "  </tbody>\n",
              "</table>\n",
              "</div>"
            ],
            "text/plain": [
              "            NAME  SALARY\n",
              "0  Amitabh Singh  500000\n",
              "1    Vivek Bhati  500000"
            ]
          },
          "execution_count": 32,
          "metadata": {},
          "output_type": "execute_result"
        }
      ],
      "source": [
        "Ans50 = pd.read_sql(\"SELECT concat(FIRST_NAME,' ',LAST_NAME) as NAME, SALARY from Worker WHERE SALARY=(SELECT max(SALARY) from Worker);\", con=mydb)\n",
        "Ans50"
      ]
    },
    {
      "cell_type": "markdown",
      "id": "c8d6c88b",
      "metadata": {
        "id": "c8d6c88b"
      },
      "source": [
        ""
      ]
    },
    {
      "cell_type": "markdown",
      "id": "8271a04e",
      "metadata": {
        "id": "8271a04e"
      },
      "source": [
        "**Massive credit to [TechBeamers](https://www.techbeamers.com/) for the sql questions. These solutions were given by me, Edeh Emeka N.** \n"
      ]
    },
    {
      "cell_type": "code",
      "execution_count": null,
      "id": "580a748f",
      "metadata": {
        "id": "580a748f"
      },
      "outputs": [],
      "source": [
        ""
      ]
    }
  ],
  "metadata": {
    "kernelspec": {
      "display_name": "Python 3 (ipykernel)",
      "language": "python",
      "name": "python3"
    },
    "language_info": {
      "codemirror_mode": {
        "name": "ipython",
        "version": 3
      },
      "file_extension": ".py",
      "mimetype": "text/x-python",
      "name": "python",
      "nbconvert_exporter": "python",
      "pygments_lexer": "ipython3",
      "version": "3.10.2"
    },
    "colab": {
      "name": "SQL QUERIES USING MYSQL PYTHON CONNECTION STRING.ipynb",
      "provenance": [],
      "include_colab_link": true
    }
  },
  "nbformat": 4,
  "nbformat_minor": 5
}